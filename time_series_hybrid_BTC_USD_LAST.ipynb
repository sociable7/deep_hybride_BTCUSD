{
  "cells": [
    {
      "cell_type": "markdown",
      "metadata": {
        "id": "KS_VFrZt72rB"
      },
      "source": [
        "# **install library**"
      ]
    },
    {
      "cell_type": "markdown",
      "metadata": {
        "id": "NYWiB5hbSGCU"
      },
      "source": []
    },
    {
      "cell_type": "code",
      "execution_count": 1,
      "metadata": {
        "colab": {
          "base_uri": "https://localhost:8080/"
        },
        "id": "QROyOcxkiYJu",
        "outputId": "82a106d5-73db-4886-a736-976f2125bf0e"
      },
      "outputs": [
        {
          "output_type": "stream",
          "name": "stdout",
          "text": [
            "Looking in indexes: https://pypi.org/simple, https://us-python.pkg.dev/colab-wheels/public/simple/\n",
            "Collecting vaderSentiment\n",
            "  Downloading vaderSentiment-3.3.2-py2.py3-none-any.whl (125 kB)\n",
            "\u001b[K     |████████████████████████████████| 125 kB 15.4 MB/s \n",
            "\u001b[?25hRequirement already satisfied: requests in /usr/local/lib/python3.7/dist-packages (from vaderSentiment) (2.23.0)\n",
            "Requirement already satisfied: idna<3,>=2.5 in /usr/local/lib/python3.7/dist-packages (from requests->vaderSentiment) (2.10)\n",
            "Requirement already satisfied: urllib3!=1.25.0,!=1.25.1,<1.26,>=1.21.1 in /usr/local/lib/python3.7/dist-packages (from requests->vaderSentiment) (1.24.3)\n",
            "Requirement already satisfied: chardet<4,>=3.0.2 in /usr/local/lib/python3.7/dist-packages (from requests->vaderSentiment) (3.0.4)\n",
            "Requirement already satisfied: certifi>=2017.4.17 in /usr/local/lib/python3.7/dist-packages (from requests->vaderSentiment) (2022.9.24)\n",
            "Installing collected packages: vaderSentiment\n",
            "Successfully installed vaderSentiment-3.3.2\n"
          ]
        }
      ],
      "source": [
        "pip install vaderSentiment"
      ]
    },
    {
      "cell_type": "code",
      "execution_count": 2,
      "metadata": {
        "colab": {
          "base_uri": "https://localhost:8080/"
        },
        "id": "rNYX7-WjeTPt",
        "outputId": "4f44670d-fbd6-416b-8a69-73293439a32b"
      },
      "outputs": [
        {
          "output_type": "stream",
          "name": "stdout",
          "text": [
            "Looking in indexes: https://pypi.org/simple, https://us-python.pkg.dev/colab-wheels/public/simple/\n",
            "Collecting GoogleNews\n",
            "  Downloading GoogleNews-1.6.5-py3-none-any.whl (8.0 kB)\n",
            "Requirement already satisfied: beautifulsoup4 in /usr/local/lib/python3.7/dist-packages (from GoogleNews) (4.6.3)\n",
            "Collecting dateparser\n",
            "  Downloading dateparser-1.1.3-py2.py3-none-any.whl (292 kB)\n",
            "\u001b[K     |████████████████████████████████| 292 kB 8.3 MB/s \n",
            "\u001b[?25hRequirement already satisfied: python-dateutil in /usr/local/lib/python3.7/dist-packages (from GoogleNews) (2.8.2)\n",
            "Requirement already satisfied: tzlocal in /usr/local/lib/python3.7/dist-packages (from dateparser->GoogleNews) (1.5.1)\n",
            "Collecting regex!=2019.02.19,!=2021.8.27,<2022.3.15\n",
            "  Downloading regex-2022.3.2-cp37-cp37m-manylinux_2_17_x86_64.manylinux2014_x86_64.whl (749 kB)\n",
            "\u001b[K     |████████████████████████████████| 749 kB 25.9 MB/s \n",
            "\u001b[?25hRequirement already satisfied: pytz in /usr/local/lib/python3.7/dist-packages (from dateparser->GoogleNews) (2022.6)\n",
            "Requirement already satisfied: six>=1.5 in /usr/local/lib/python3.7/dist-packages (from python-dateutil->GoogleNews) (1.15.0)\n",
            "Installing collected packages: regex, dateparser, GoogleNews\n",
            "  Attempting uninstall: regex\n",
            "    Found existing installation: regex 2022.6.2\n",
            "    Uninstalling regex-2022.6.2:\n",
            "      Successfully uninstalled regex-2022.6.2\n",
            "Successfully installed GoogleNews-1.6.5 dateparser-1.1.3 regex-2022.3.2\n"
          ]
        }
      ],
      "source": [
        "pip install GoogleNews"
      ]
    },
    {
      "cell_type": "code",
      "execution_count": 3,
      "metadata": {
        "colab": {
          "base_uri": "https://localhost:8080/"
        },
        "id": "jfy72X4Hbye0",
        "outputId": "29c81e79-6c8a-40fa-bf4e-4bf953a65542"
      },
      "outputs": [
        {
          "output_type": "stream",
          "name": "stdout",
          "text": [
            "Looking in indexes: https://pypi.org/simple, https://us-python.pkg.dev/colab-wheels/public/simple/\n",
            "Collecting yfinance\n",
            "  Downloading yfinance-0.1.87-py2.py3-none-any.whl (29 kB)\n",
            "Requirement already satisfied: appdirs>=1.4.4 in /usr/local/lib/python3.7/dist-packages (from yfinance) (1.4.4)\n",
            "Requirement already satisfied: lxml>=4.5.1 in /usr/local/lib/python3.7/dist-packages (from yfinance) (4.9.1)\n",
            "Collecting requests>=2.26\n",
            "  Downloading requests-2.28.1-py3-none-any.whl (62 kB)\n",
            "\u001b[K     |████████████████████████████████| 62 kB 1.8 MB/s \n",
            "\u001b[?25hRequirement already satisfied: numpy>=1.15 in /usr/local/lib/python3.7/dist-packages (from yfinance) (1.21.6)\n",
            "Requirement already satisfied: multitasking>=0.0.7 in /usr/local/lib/python3.7/dist-packages (from yfinance) (0.0.11)\n",
            "Requirement already satisfied: pandas>=0.24.0 in /usr/local/lib/python3.7/dist-packages (from yfinance) (1.3.5)\n",
            "Requirement already satisfied: python-dateutil>=2.7.3 in /usr/local/lib/python3.7/dist-packages (from pandas>=0.24.0->yfinance) (2.8.2)\n",
            "Requirement already satisfied: pytz>=2017.3 in /usr/local/lib/python3.7/dist-packages (from pandas>=0.24.0->yfinance) (2022.6)\n",
            "Requirement already satisfied: six>=1.5 in /usr/local/lib/python3.7/dist-packages (from python-dateutil>=2.7.3->pandas>=0.24.0->yfinance) (1.15.0)\n",
            "Requirement already satisfied: idna<4,>=2.5 in /usr/local/lib/python3.7/dist-packages (from requests>=2.26->yfinance) (2.10)\n",
            "Requirement already satisfied: urllib3<1.27,>=1.21.1 in /usr/local/lib/python3.7/dist-packages (from requests>=2.26->yfinance) (1.24.3)\n",
            "Requirement already satisfied: certifi>=2017.4.17 in /usr/local/lib/python3.7/dist-packages (from requests>=2.26->yfinance) (2022.9.24)\n",
            "Requirement already satisfied: charset-normalizer<3,>=2 in /usr/local/lib/python3.7/dist-packages (from requests>=2.26->yfinance) (2.1.1)\n",
            "Installing collected packages: requests, yfinance\n",
            "  Attempting uninstall: requests\n",
            "    Found existing installation: requests 2.23.0\n",
            "    Uninstalling requests-2.23.0:\n",
            "      Successfully uninstalled requests-2.23.0\n",
            "Successfully installed requests-2.28.1 yfinance-0.1.87\n"
          ]
        }
      ],
      "source": [
        "pip install yfinance"
      ]
    },
    {
      "cell_type": "markdown",
      "metadata": {
        "id": "na5LbR398gbv"
      },
      "source": [
        "# **read data from yahoo finace**"
      ]
    },
    {
      "cell_type": "code",
      "execution_count": 4,
      "metadata": {
        "id": "OciUBkKqKZZR"
      },
      "outputs": [],
      "source": [
        "# import pandas as pd\n",
        "# data_main=pd.read_csv(\"data.csv\")"
      ]
    },
    {
      "cell_type": "code",
      "execution_count": 5,
      "metadata": {
        "colab": {
          "base_uri": "https://localhost:8080/",
          "height": 473
        },
        "id": "pei95dl7cFqP",
        "outputId": "ebcecc33-0c11-4ae3-97ee-7c50997ed0dd"
      },
      "outputs": [
        {
          "output_type": "stream",
          "name": "stdout",
          "text": [
            "\r[*********************100%***********************]  1 of 1 completed\n"
          ]
        },
        {
          "output_type": "execute_result",
          "data": {
            "text/plain": [
              "                    Open          High           Low         Close  \\\n",
              "Date                                                                 \n",
              "2014-09-17    465.864014    468.174011    452.421997    457.334015   \n",
              "2014-09-18    456.859985    456.859985    413.104004    424.440002   \n",
              "2014-09-19    424.102997    427.834991    384.532013    394.795990   \n",
              "2014-09-20    394.673004    423.295990    389.882996    408.903992   \n",
              "2014-09-21    408.084991    412.425995    393.181000    398.821014   \n",
              "...                  ...           ...           ...           ...   \n",
              "2022-11-13  16799.722656  16920.765625  16320.634766  16353.365234   \n",
              "2022-11-14  16352.028320  17109.324219  15872.941406  16618.199219   \n",
              "2022-11-15  16617.484375  17051.962891  16542.550781  16884.613281   \n",
              "2022-11-16  16884.341797  16960.294922  16430.111328  16669.439453   \n",
              "2022-11-17  16669.656250  16726.435547  16462.767578  16518.601562   \n",
              "\n",
              "               Adj Close       Volume  \n",
              "Date                                   \n",
              "2014-09-17    457.334015     21056800  \n",
              "2014-09-18    424.440002     34483200  \n",
              "2014-09-19    394.795990     37919700  \n",
              "2014-09-20    408.903992     36863600  \n",
              "2014-09-21    398.821014     26580100  \n",
              "...                  ...          ...  \n",
              "2022-11-13  16353.365234  27209183682  \n",
              "2022-11-14  16618.199219  49630243054  \n",
              "2022-11-15  16884.613281  36599436183  \n",
              "2022-11-16  16669.439453  33925512989  \n",
              "2022-11-17  16518.601562  32836845568  \n",
              "\n",
              "[2984 rows x 6 columns]"
            ],
            "text/html": [
              "\n",
              "  <div id=\"df-e24fcd92-d26b-4d38-9ac0-87b9a591f4c8\">\n",
              "    <div class=\"colab-df-container\">\n",
              "      <div>\n",
              "<style scoped>\n",
              "    .dataframe tbody tr th:only-of-type {\n",
              "        vertical-align: middle;\n",
              "    }\n",
              "\n",
              "    .dataframe tbody tr th {\n",
              "        vertical-align: top;\n",
              "    }\n",
              "\n",
              "    .dataframe thead th {\n",
              "        text-align: right;\n",
              "    }\n",
              "</style>\n",
              "<table border=\"1\" class=\"dataframe\">\n",
              "  <thead>\n",
              "    <tr style=\"text-align: right;\">\n",
              "      <th></th>\n",
              "      <th>Open</th>\n",
              "      <th>High</th>\n",
              "      <th>Low</th>\n",
              "      <th>Close</th>\n",
              "      <th>Adj Close</th>\n",
              "      <th>Volume</th>\n",
              "    </tr>\n",
              "    <tr>\n",
              "      <th>Date</th>\n",
              "      <th></th>\n",
              "      <th></th>\n",
              "      <th></th>\n",
              "      <th></th>\n",
              "      <th></th>\n",
              "      <th></th>\n",
              "    </tr>\n",
              "  </thead>\n",
              "  <tbody>\n",
              "    <tr>\n",
              "      <th>2014-09-17</th>\n",
              "      <td>465.864014</td>\n",
              "      <td>468.174011</td>\n",
              "      <td>452.421997</td>\n",
              "      <td>457.334015</td>\n",
              "      <td>457.334015</td>\n",
              "      <td>21056800</td>\n",
              "    </tr>\n",
              "    <tr>\n",
              "      <th>2014-09-18</th>\n",
              "      <td>456.859985</td>\n",
              "      <td>456.859985</td>\n",
              "      <td>413.104004</td>\n",
              "      <td>424.440002</td>\n",
              "      <td>424.440002</td>\n",
              "      <td>34483200</td>\n",
              "    </tr>\n",
              "    <tr>\n",
              "      <th>2014-09-19</th>\n",
              "      <td>424.102997</td>\n",
              "      <td>427.834991</td>\n",
              "      <td>384.532013</td>\n",
              "      <td>394.795990</td>\n",
              "      <td>394.795990</td>\n",
              "      <td>37919700</td>\n",
              "    </tr>\n",
              "    <tr>\n",
              "      <th>2014-09-20</th>\n",
              "      <td>394.673004</td>\n",
              "      <td>423.295990</td>\n",
              "      <td>389.882996</td>\n",
              "      <td>408.903992</td>\n",
              "      <td>408.903992</td>\n",
              "      <td>36863600</td>\n",
              "    </tr>\n",
              "    <tr>\n",
              "      <th>2014-09-21</th>\n",
              "      <td>408.084991</td>\n",
              "      <td>412.425995</td>\n",
              "      <td>393.181000</td>\n",
              "      <td>398.821014</td>\n",
              "      <td>398.821014</td>\n",
              "      <td>26580100</td>\n",
              "    </tr>\n",
              "    <tr>\n",
              "      <th>...</th>\n",
              "      <td>...</td>\n",
              "      <td>...</td>\n",
              "      <td>...</td>\n",
              "      <td>...</td>\n",
              "      <td>...</td>\n",
              "      <td>...</td>\n",
              "    </tr>\n",
              "    <tr>\n",
              "      <th>2022-11-13</th>\n",
              "      <td>16799.722656</td>\n",
              "      <td>16920.765625</td>\n",
              "      <td>16320.634766</td>\n",
              "      <td>16353.365234</td>\n",
              "      <td>16353.365234</td>\n",
              "      <td>27209183682</td>\n",
              "    </tr>\n",
              "    <tr>\n",
              "      <th>2022-11-14</th>\n",
              "      <td>16352.028320</td>\n",
              "      <td>17109.324219</td>\n",
              "      <td>15872.941406</td>\n",
              "      <td>16618.199219</td>\n",
              "      <td>16618.199219</td>\n",
              "      <td>49630243054</td>\n",
              "    </tr>\n",
              "    <tr>\n",
              "      <th>2022-11-15</th>\n",
              "      <td>16617.484375</td>\n",
              "      <td>17051.962891</td>\n",
              "      <td>16542.550781</td>\n",
              "      <td>16884.613281</td>\n",
              "      <td>16884.613281</td>\n",
              "      <td>36599436183</td>\n",
              "    </tr>\n",
              "    <tr>\n",
              "      <th>2022-11-16</th>\n",
              "      <td>16884.341797</td>\n",
              "      <td>16960.294922</td>\n",
              "      <td>16430.111328</td>\n",
              "      <td>16669.439453</td>\n",
              "      <td>16669.439453</td>\n",
              "      <td>33925512989</td>\n",
              "    </tr>\n",
              "    <tr>\n",
              "      <th>2022-11-17</th>\n",
              "      <td>16669.656250</td>\n",
              "      <td>16726.435547</td>\n",
              "      <td>16462.767578</td>\n",
              "      <td>16518.601562</td>\n",
              "      <td>16518.601562</td>\n",
              "      <td>32836845568</td>\n",
              "    </tr>\n",
              "  </tbody>\n",
              "</table>\n",
              "<p>2984 rows × 6 columns</p>\n",
              "</div>\n",
              "      <button class=\"colab-df-convert\" onclick=\"convertToInteractive('df-e24fcd92-d26b-4d38-9ac0-87b9a591f4c8')\"\n",
              "              title=\"Convert this dataframe to an interactive table.\"\n",
              "              style=\"display:none;\">\n",
              "        \n",
              "  <svg xmlns=\"http://www.w3.org/2000/svg\" height=\"24px\"viewBox=\"0 0 24 24\"\n",
              "       width=\"24px\">\n",
              "    <path d=\"M0 0h24v24H0V0z\" fill=\"none\"/>\n",
              "    <path d=\"M18.56 5.44l.94 2.06.94-2.06 2.06-.94-2.06-.94-.94-2.06-.94 2.06-2.06.94zm-11 1L8.5 8.5l.94-2.06 2.06-.94-2.06-.94L8.5 2.5l-.94 2.06-2.06.94zm10 10l.94 2.06.94-2.06 2.06-.94-2.06-.94-.94-2.06-.94 2.06-2.06.94z\"/><path d=\"M17.41 7.96l-1.37-1.37c-.4-.4-.92-.59-1.43-.59-.52 0-1.04.2-1.43.59L10.3 9.45l-7.72 7.72c-.78.78-.78 2.05 0 2.83L4 21.41c.39.39.9.59 1.41.59.51 0 1.02-.2 1.41-.59l7.78-7.78 2.81-2.81c.8-.78.8-2.07 0-2.86zM5.41 20L4 18.59l7.72-7.72 1.47 1.35L5.41 20z\"/>\n",
              "  </svg>\n",
              "      </button>\n",
              "      \n",
              "  <style>\n",
              "    .colab-df-container {\n",
              "      display:flex;\n",
              "      flex-wrap:wrap;\n",
              "      gap: 12px;\n",
              "    }\n",
              "\n",
              "    .colab-df-convert {\n",
              "      background-color: #E8F0FE;\n",
              "      border: none;\n",
              "      border-radius: 50%;\n",
              "      cursor: pointer;\n",
              "      display: none;\n",
              "      fill: #1967D2;\n",
              "      height: 32px;\n",
              "      padding: 0 0 0 0;\n",
              "      width: 32px;\n",
              "    }\n",
              "\n",
              "    .colab-df-convert:hover {\n",
              "      background-color: #E2EBFA;\n",
              "      box-shadow: 0px 1px 2px rgba(60, 64, 67, 0.3), 0px 1px 3px 1px rgba(60, 64, 67, 0.15);\n",
              "      fill: #174EA6;\n",
              "    }\n",
              "\n",
              "    [theme=dark] .colab-df-convert {\n",
              "      background-color: #3B4455;\n",
              "      fill: #D2E3FC;\n",
              "    }\n",
              "\n",
              "    [theme=dark] .colab-df-convert:hover {\n",
              "      background-color: #434B5C;\n",
              "      box-shadow: 0px 1px 3px 1px rgba(0, 0, 0, 0.15);\n",
              "      filter: drop-shadow(0px 1px 2px rgba(0, 0, 0, 0.3));\n",
              "      fill: #FFFFFF;\n",
              "    }\n",
              "  </style>\n",
              "\n",
              "      <script>\n",
              "        const buttonEl =\n",
              "          document.querySelector('#df-e24fcd92-d26b-4d38-9ac0-87b9a591f4c8 button.colab-df-convert');\n",
              "        buttonEl.style.display =\n",
              "          google.colab.kernel.accessAllowed ? 'block' : 'none';\n",
              "\n",
              "        async function convertToInteractive(key) {\n",
              "          const element = document.querySelector('#df-e24fcd92-d26b-4d38-9ac0-87b9a591f4c8');\n",
              "          const dataTable =\n",
              "            await google.colab.kernel.invokeFunction('convertToInteractive',\n",
              "                                                     [key], {});\n",
              "          if (!dataTable) return;\n",
              "\n",
              "          const docLinkHtml = 'Like what you see? Visit the ' +\n",
              "            '<a target=\"_blank\" href=https://colab.research.google.com/notebooks/data_table.ipynb>data table notebook</a>'\n",
              "            + ' to learn more about interactive tables.';\n",
              "          element.innerHTML = '';\n",
              "          dataTable['output_type'] = 'display_data';\n",
              "          await google.colab.output.renderOutput(dataTable, element);\n",
              "          const docLink = document.createElement('div');\n",
              "          docLink.innerHTML = docLinkHtml;\n",
              "          element.appendChild(docLink);\n",
              "        }\n",
              "      </script>\n",
              "    </div>\n",
              "  </div>\n",
              "  "
            ]
          },
          "metadata": {},
          "execution_count": 5
        }
      ],
      "source": [
        "import yfinance as yf\n",
        "data_main = yf.download(tickers='BTC-USD', period = '3000d', interval = '1d')\n",
        "data_main"
      ]
    },
    {
      "cell_type": "code",
      "execution_count": 6,
      "metadata": {
        "colab": {
          "base_uri": "https://localhost:8080/",
          "height": 518
        },
        "id": "iSPvsTEdck20",
        "outputId": "5f5f440b-b1ea-429a-c801-4fd0d49c3d2b"
      },
      "outputs": [
        {
          "output_type": "display_data",
          "data": {
            "text/plain": [
              "<Figure size 1080x576 with 1 Axes>"
            ],
            "image/png": "[encoded data removed]"
          },
          "metadata": {
            "needs_background": "light"
          }
        }
      ],
      "source": [
        "import matplotlib.pyplot as plt\n",
        "lst_name=[\"High\",\"Close\",\"Low\",\"Open\"]\n",
        "plt.figure(figsize=(15,8))\n",
        "plt.plot( data_main[lst_name[0]],\"k-\")\n",
        "plt.plot( data_main[lst_name[1]],\"r-\")\n",
        "plt.plot( data_main[lst_name[2]],\"b-\")\n",
        "plt.plot( data_main[lst_name[3]],\"g-\")\n",
        "plt.legend(lst_name,fontsize=12)\n",
        "plt.title('Price action for BTC-USD Trend', fontname='serif', fontsize=15)\n",
        "plt.xlabel('Data in Years', fontname='serif', fontsize=15)\n",
        "plt.ylabel('Bitcoin Value', fontname='serif', fontsize=15)\n",
        "plt.show()"
      ]
    },
    {
      "cell_type": "markdown",
      "metadata": {
        "id": "lZDIv7ZuIoB0"
      },
      "source": [
        "# **get news of GoogleNews**"
      ]
    },
    {
      "cell_type": "code",
      "execution_count": 7,
      "metadata": {
        "id": "K1AtFTFDhxK3"
      },
      "outputs": [],
      "source": [
        "import time\n",
        "import urllib\n",
        "import requests\n",
        "import bs4\n",
        "import pandas as pd\n",
        "import numpy as np\n",
        "import matplotlib.pyplot as plt\n",
        "from GoogleNews import GoogleNews\n",
        "import datetime\n",
        "from datetime import timedelta,date\n",
        "import time\n",
        "import datetime\n",
        "from dateutil.relativedelta import relativedelta\n",
        "\n",
        "def get_past_date(str_days_ago):\n",
        "    TODAY = datetime.date.today()\n",
        "    splitted = str_days_ago.split()\n",
        "    if len(splitted) == 1 and splitted[0].lower() == 'today':\n",
        "        return str(TODAY.isoformat())\n",
        "    elif len(splitted) == 1 and splitted[0].lower() == 'yesterday':\n",
        "        date = TODAY - relativedelta(days=1)\n",
        "        return str(date.isoformat())\n",
        "    elif splitted[1].lower() in ['hour', 'hours', 'hr', 'hrs', 'h']:\n",
        "        date = datetime.datetime.now() - relativedelta(hours=int(splitted[0]))\n",
        "        return str(date.date().isoformat())\n",
        "    elif splitted[1].lower() in ['day', 'days', 'd']:\n",
        "        date = TODAY - relativedelta(days=int(splitted[0]))\n",
        "        return str(date.isoformat())\n",
        "    elif splitted[1].lower() in ['wk', 'wks', 'week', 'weeks', 'w']:\n",
        "        date = TODAY - relativedelta(weeks=int(splitted[0]))\n",
        "        return str(date.isoformat())\n",
        "    elif splitted[1].lower() in ['mon', 'mons', 'month', 'months', 'm']:\n",
        "        date = TODAY - relativedelta(months=int(splitted[0]))\n",
        "        return str(date.isoformat())\n",
        "    elif splitted[1].lower() in ['yrs', 'yr', 'years', 'year', 'y']:\n",
        "        date = TODAY - relativedelta(years=int(splitted[0]))\n",
        "        return str(date.isoformat())\n",
        "    else:\n",
        "        return str_days_ago"
      ]
    },
    {
      "cell_type": "code",
      "execution_count": 8,
      "metadata": {
        "colab": {
          "base_uri": "https://localhost:8080/"
        },
        "id": "G2hHehVDNfmc",
        "outputId": "67f6c7c3-24e2-497c-e7b4-c70684b7f9bd"
      },
      "outputs": [
        {
          "output_type": "stream",
          "name": "stderr",
          "text": [
            "18it [00:25,  1.07it/s]"
          ]
        },
        {
          "output_type": "stream",
          "name": "stdout",
          "text": [
            "'NoneType' object is not iterable\n"
          ]
        },
        {
          "output_type": "stream",
          "name": "stderr",
          "text": [
            "\r19it [00:25,  1.22it/s]"
          ]
        },
        {
          "output_type": "stream",
          "name": "stdout",
          "text": [
            "'NoneType' object is not iterable\n"
          ]
        },
        {
          "output_type": "stream",
          "name": "stderr",
          "text": [
            "\r20it [00:26,  1.25it/s]"
          ]
        },
        {
          "output_type": "stream",
          "name": "stdout",
          "text": [
            "'NoneType' object is not iterable\n"
          ]
        },
        {
          "output_type": "stream",
          "name": "stderr",
          "text": [
            "\r21it [00:27,  1.33it/s]"
          ]
        },
        {
          "output_type": "stream",
          "name": "stdout",
          "text": [
            "'NoneType' object is not iterable\n",
            "'NoneType' object is not iterable\n"
          ]
        },
        {
          "output_type": "stream",
          "name": "stderr",
          "text": [
            "\r22it [00:27,  1.42it/s]"
          ]
        },
        {
          "output_type": "stream",
          "name": "stdout",
          "text": [
            "'NoneType' object is not iterable\n"
          ]
        },
        {
          "output_type": "stream",
          "name": "stderr",
          "text": [
            "\r23it [00:28,  1.46it/s]"
          ]
        },
        {
          "output_type": "stream",
          "name": "stdout",
          "text": [
            "'NoneType' object is not iterable\n"
          ]
        },
        {
          "output_type": "stream",
          "name": "stderr",
          "text": [
            "\r24it [00:29,  1.54it/s]"
          ]
        },
        {
          "output_type": "stream",
          "name": "stdout",
          "text": [
            "'NoneType' object is not iterable\n"
          ]
        },
        {
          "output_type": "stream",
          "name": "stderr",
          "text": [
            "\r25it [00:29,  1.51it/s]"
          ]
        },
        {
          "output_type": "stream",
          "name": "stdout",
          "text": [
            "'NoneType' object is not iterable\n",
            "'NoneType' object is not iterable\n"
          ]
        },
        {
          "output_type": "stream",
          "name": "stderr",
          "text": [
            "\r26it [00:30,  1.57it/s]"
          ]
        },
        {
          "output_type": "stream",
          "name": "stdout",
          "text": [
            "'NoneType' object is not iterable\n"
          ]
        },
        {
          "output_type": "stream",
          "name": "stderr",
          "text": [
            "27it [00:31,  1.16s/it]"
          ]
        },
        {
          "output_type": "stream",
          "name": "stdout",
          "text": [
            "'NoneType' object is not iterable\n"
          ]
        },
        {
          "output_type": "stream",
          "name": "stderr",
          "text": [
            "\n"
          ]
        }
      ],
      "source": [
        "from tqdm import tqdm\n",
        "\n",
        "news_google1=[]\n",
        "start_date = date(2022, 10, 1)\n",
        "end_date=date(2022, 10, 28)\n",
        "\n",
        "day_count=(end_date-start_date).days\n",
        "max_page_news=2\n",
        "for data_search in tqdm(start_date + timedelta(n) for n in range(day_count)):\n",
        "  st= data_search.strftime(\"%m/%d/%Y\")\n",
        "  googlenews=GoogleNews(start=st,end=st)\n",
        "  googlenews.search('btc forex news')\n",
        "  googlenews.page_at(max_page_news)\n",
        "  result=googlenews.result()\n",
        "  #time.sleep(15)\n",
        "  for j in range(len(result)):\n",
        "    feild=[]\n",
        "    tiltle_news=result[j][\"title\"]\n",
        "    link_news=result[j][\"link\"]\n",
        "    date_news=result[j][\"date\"]\n",
        "    feild.append(date_news)\n",
        "    feild.append(tiltle_news)\n",
        "    feild.append(link_news)\n",
        "    news_google1.append(feild)"
      ]
    },
    {
      "cell_type": "code",
      "execution_count": 9,
      "metadata": {
        "colab": {
          "base_uri": "https://localhost:8080/",
          "height": 175
        },
        "id": "-IZ5teRyOVqK",
        "outputId": "0babb2f8-35c5-4e35-fe2c-111963e83e22"
      },
      "outputs": [
        {
          "output_type": "execute_result",
          "data": {
            "text/plain": [
              "                                                         news\n",
              "Date                                                         \n",
              "2022-10-17  Bitcoin price is going nowhere without a break...\n",
              "2022-10-20  What Is DeFi Lending and How Does It Work? – C...\n",
              "2022-10-27  Weekly Forex Forecast – Bitcoin,Oil,EUR/USD,GB..."
            ],
            "text/html": [
              "\n",
              "  <div id=\"df-76e241e8-d5fa-42c9-9c30-49aa33c121cb\">\n",
              "    <div class=\"colab-df-container\">\n",
              "      <div>\n",
              "<style scoped>\n",
              "    .dataframe tbody tr th:only-of-type {\n",
              "        vertical-align: middle;\n",
              "    }\n",
              "\n",
              "    .dataframe tbody tr th {\n",
              "        vertical-align: top;\n",
              "    }\n",
              "\n",
              "    .dataframe thead th {\n",
              "        text-align: right;\n",
              "    }\n",
              "</style>\n",
              "<table border=\"1\" class=\"dataframe\">\n",
              "  <thead>\n",
              "    <tr style=\"text-align: right;\">\n",
              "      <th></th>\n",
              "      <th>news</th>\n",
              "    </tr>\n",
              "    <tr>\n",
              "      <th>Date</th>\n",
              "      <th></th>\n",
              "    </tr>\n",
              "  </thead>\n",
              "  <tbody>\n",
              "    <tr>\n",
              "      <th>2022-10-17</th>\n",
              "      <td>Bitcoin price is going nowhere without a break...</td>\n",
              "    </tr>\n",
              "    <tr>\n",
              "      <th>2022-10-20</th>\n",
              "      <td>What Is DeFi Lending and How Does It Work? – C...</td>\n",
              "    </tr>\n",
              "    <tr>\n",
              "      <th>2022-10-27</th>\n",
              "      <td>Weekly Forex Forecast – Bitcoin,Oil,EUR/USD,GB...</td>\n",
              "    </tr>\n",
              "  </tbody>\n",
              "</table>\n",
              "</div>\n",
              "      <button class=\"colab-df-convert\" onclick=\"convertToInteractive('df-76e241e8-d5fa-42c9-9c30-49aa33c121cb')\"\n",
              "              title=\"Convert this dataframe to an interactive table.\"\n",
              "              style=\"display:none;\">\n",
              "        \n",
              "  <svg xmlns=\"http://www.w3.org/2000/svg\" height=\"24px\"viewBox=\"0 0 24 24\"\n",
              "       width=\"24px\">\n",
              "    <path d=\"M0 0h24v24H0V0z\" fill=\"none\"/>\n",
              "    <path d=\"M18.56 5.44l.94 2.06.94-2.06 2.06-.94-2.06-.94-.94-2.06-.94 2.06-2.06.94zm-11 1L8.5 8.5l.94-2.06 2.06-.94-2.06-.94L8.5 2.5l-.94 2.06-2.06.94zm10 10l.94 2.06.94-2.06 2.06-.94-2.06-.94-.94-2.06-.94 2.06-2.06.94z\"/><path d=\"M17.41 7.96l-1.37-1.37c-.4-.4-.92-.59-1.43-.59-.52 0-1.04.2-1.43.59L10.3 9.45l-7.72 7.72c-.78.78-.78 2.05 0 2.83L4 21.41c.39.39.9.59 1.41.59.51 0 1.02-.2 1.41-.59l7.78-7.78 2.81-2.81c.8-.78.8-2.07 0-2.86zM5.41 20L4 18.59l7.72-7.72 1.47 1.35L5.41 20z\"/>\n",
              "  </svg>\n",
              "      </button>\n",
              "      \n",
              "  <style>\n",
              "    .colab-df-container {\n",
              "      display:flex;\n",
              "      flex-wrap:wrap;\n",
              "      gap: 12px;\n",
              "    }\n",
              "\n",
              "    .colab-df-convert {\n",
              "      background-color: #E8F0FE;\n",
              "      border: none;\n",
              "      border-radius: 50%;\n",
              "      cursor: pointer;\n",
              "      display: none;\n",
              "      fill: #1967D2;\n",
              "      height: 32px;\n",
              "      padding: 0 0 0 0;\n",
              "      width: 32px;\n",
              "    }\n",
              "\n",
              "    .colab-df-convert:hover {\n",
              "      background-color: #E2EBFA;\n",
              "      box-shadow: 0px 1px 2px rgba(60, 64, 67, 0.3), 0px 1px 3px 1px rgba(60, 64, 67, 0.15);\n",
              "      fill: #174EA6;\n",
              "    }\n",
              "\n",
              "    [theme=dark] .colab-df-convert {\n",
              "      background-color: #3B4455;\n",
              "      fill: #D2E3FC;\n",
              "    }\n",
              "\n",
              "    [theme=dark] .colab-df-convert:hover {\n",
              "      background-color: #434B5C;\n",
              "      box-shadow: 0px 1px 3px 1px rgba(0, 0, 0, 0.15);\n",
              "      filter: drop-shadow(0px 1px 2px rgba(0, 0, 0, 0.3));\n",
              "      fill: #FFFFFF;\n",
              "    }\n",
              "  </style>\n",
              "\n",
              "      <script>\n",
              "        const buttonEl =\n",
              "          document.querySelector('#df-76e241e8-d5fa-42c9-9c30-49aa33c121cb button.colab-df-convert');\n",
              "        buttonEl.style.display =\n",
              "          google.colab.kernel.accessAllowed ? 'block' : 'none';\n",
              "\n",
              "        async function convertToInteractive(key) {\n",
              "          const element = document.querySelector('#df-76e241e8-d5fa-42c9-9c30-49aa33c121cb');\n",
              "          const dataTable =\n",
              "            await google.colab.kernel.invokeFunction('convertToInteractive',\n",
              "                                                     [key], {});\n",
              "          if (!dataTable) return;\n",
              "\n",
              "          const docLinkHtml = 'Like what you see? Visit the ' +\n",
              "            '<a target=\"_blank\" href=https://colab.research.google.com/notebooks/data_table.ipynb>data table notebook</a>'\n",
              "            + ' to learn more about interactive tables.';\n",
              "          element.innerHTML = '';\n",
              "          dataTable['output_type'] = 'display_data';\n",
              "          await google.colab.output.renderOutput(dataTable, element);\n",
              "          const docLink = document.createElement('div');\n",
              "          docLink.innerHTML = docLinkHtml;\n",
              "          element.appendChild(docLink);\n",
              "        }\n",
              "      </script>\n",
              "    </div>\n",
              "  </div>\n",
              "  "
            ]
          },
          "metadata": {},
          "execution_count": 9
        }
      ],
      "source": [
        "# convert to dataset\n",
        "data_news_all=pd.DataFrame(news_google1,columns=[\"Date\",\"news\",\"link\"]) \n",
        "# convert string date to date time \n",
        "data_news_all[\"Date\"]=data_news_all[\"Date\"].apply(lambda x:get_past_date(x))\n",
        "# convert to datetime\n",
        "data_news_all['Date'] = pd.to_datetime(data_news_all['Date'],errors='coerce')\n",
        "# group by days news\n",
        "data_news_day=data_news_all.groupby(data_news_all['Date'].dt.date,\n",
        "                            as_index = True).agg( date=('Date','first'),\n",
        "                                                   news=('news',' '.join))\n",
        "data_news_day.drop(\"date\",axis=1,inplace=True)\n",
        "data_news_day"
      ]
    },
    {
      "cell_type": "code",
      "execution_count": 10,
      "metadata": {
        "colab": {
          "base_uri": "https://localhost:8080/",
          "height": 423
        },
        "id": "WDkQsjQ_rD9p",
        "outputId": "4ccacf72-ac09-4511-8a52-cf22cd66b242"
      },
      "outputs": [
        {
          "output_type": "execute_result",
          "data": {
            "text/plain": [
              "          Date                                               news  \\\n",
              "0   2022-10-17  Bitcoin price is going nowhere without a break...   \n",
              "1   2022-10-17  Bitcoin Price Prediction: BTC/USD Could Obtain...   \n",
              "2   2022-10-17  Scientists Say Bitcoin Mining is as Bad as Rea...   \n",
              "3   2022-10-17  Net Bitcoin ATMs growth drops globally for the...   \n",
              "4   2022-10-17  Uniglo.io (GLO) Draws Attention With Bullish P...   \n",
              "..         ...                                                ...   \n",
              "182 2022-10-27  Forex Signals Brief Oct 24: BOC and ECB to Res...   \n",
              "183 2022-10-27  Crypto Signals Brief for October 25: A Bullish...   \n",
              "184 2022-10-27  This Company Is Changing The DeFi Game By Brin...   \n",
              "185 2022-10-27  Bitcoin Remains Tight at $19K Level With Low V...   \n",
              "186 2022-10-27  Hong Kong could be key for China's crypto come...   \n",
              "\n",
              "                                                  link  \n",
              "0    https://www.fxstreet.com/cryptocurrencies/news...  \n",
              "1    https://insidebitcoins.com/news/bitcoin-price-...  \n",
              "2    https://www.business2community.com/crypto-news...  \n",
              "3    https://www.investing.com/news/cryptocurrency-...  \n",
              "4    https://bitcoinist.com/uniglo-io-glo-draws-att...  \n",
              "..                                                 ...  \n",
              "182  https://www.fxleaders.com/news/2022/10/24/fore...  \n",
              "183  https://www.fxleaders.com/news/2022/10/25/cryp...  \n",
              "184  https://finance.yahoo.com/news/company-changin...  \n",
              "185  https://forextv.com/bitcoin-news/bitcoin-remai...  \n",
              "186  https://cointelegraph.com/news/hong-kong-could...  \n",
              "\n",
              "[187 rows x 3 columns]"
            ],
            "text/html": [
              "\n",
              "  <div id=\"df-f1440ff7-0138-41bb-9af3-e6b737f84b40\">\n",
              "    <div class=\"colab-df-container\">\n",
              "      <div>\n",
              "<style scoped>\n",
              "    .dataframe tbody tr th:only-of-type {\n",
              "        vertical-align: middle;\n",
              "    }\n",
              "\n",
              "    .dataframe tbody tr th {\n",
              "        vertical-align: top;\n",
              "    }\n",
              "\n",
              "    .dataframe thead th {\n",
              "        text-align: right;\n",
              "    }\n",
              "</style>\n",
              "<table border=\"1\" class=\"dataframe\">\n",
              "  <thead>\n",
              "    <tr style=\"text-align: right;\">\n",
              "      <th></th>\n",
              "      <th>Date</th>\n",
              "      <th>news</th>\n",
              "      <th>link</th>\n",
              "    </tr>\n",
              "  </thead>\n",
              "  <tbody>\n",
              "    <tr>\n",
              "      <th>0</th>\n",
              "      <td>2022-10-17</td>\n",
              "      <td>Bitcoin price is going nowhere without a break...</td>\n",
              "      <td>https://www.fxstreet.com/cryptocurrencies/news...</td>\n",
              "    </tr>\n",
              "    <tr>\n",
              "      <th>1</th>\n",
              "      <td>2022-10-17</td>\n",
              "      <td>Bitcoin Price Prediction: BTC/USD Could Obtain...</td>\n",
              "      <td>https://insidebitcoins.com/news/bitcoin-price-...</td>\n",
              "    </tr>\n",
              "    <tr>\n",
              "      <th>2</th>\n",
              "      <td>2022-10-17</td>\n",
              "      <td>Scientists Say Bitcoin Mining is as Bad as Rea...</td>\n",
              "      <td>https://www.business2community.com/crypto-news...</td>\n",
              "    </tr>\n",
              "    <tr>\n",
              "      <th>3</th>\n",
              "      <td>2022-10-17</td>\n",
              "      <td>Net Bitcoin ATMs growth drops globally for the...</td>\n",
              "      <td>https://www.investing.com/news/cryptocurrency-...</td>\n",
              "    </tr>\n",
              "    <tr>\n",
              "      <th>4</th>\n",
              "      <td>2022-10-17</td>\n",
              "      <td>Uniglo.io (GLO) Draws Attention With Bullish P...</td>\n",
              "      <td>https://bitcoinist.com/uniglo-io-glo-draws-att...</td>\n",
              "    </tr>\n",
              "    <tr>\n",
              "      <th>...</th>\n",
              "      <td>...</td>\n",
              "      <td>...</td>\n",
              "      <td>...</td>\n",
              "    </tr>\n",
              "    <tr>\n",
              "      <th>182</th>\n",
              "      <td>2022-10-27</td>\n",
              "      <td>Forex Signals Brief Oct 24: BOC and ECB to Res...</td>\n",
              "      <td>https://www.fxleaders.com/news/2022/10/24/fore...</td>\n",
              "    </tr>\n",
              "    <tr>\n",
              "      <th>183</th>\n",
              "      <td>2022-10-27</td>\n",
              "      <td>Crypto Signals Brief for October 25: A Bullish...</td>\n",
              "      <td>https://www.fxleaders.com/news/2022/10/25/cryp...</td>\n",
              "    </tr>\n",
              "    <tr>\n",
              "      <th>184</th>\n",
              "      <td>2022-10-27</td>\n",
              "      <td>This Company Is Changing The DeFi Game By Brin...</td>\n",
              "      <td>https://finance.yahoo.com/news/company-changin...</td>\n",
              "    </tr>\n",
              "    <tr>\n",
              "      <th>185</th>\n",
              "      <td>2022-10-27</td>\n",
              "      <td>Bitcoin Remains Tight at $19K Level With Low V...</td>\n",
              "      <td>https://forextv.com/bitcoin-news/bitcoin-remai...</td>\n",
              "    </tr>\n",
              "    <tr>\n",
              "      <th>186</th>\n",
              "      <td>2022-10-27</td>\n",
              "      <td>Hong Kong could be key for China's crypto come...</td>\n",
              "      <td>https://cointelegraph.com/news/hong-kong-could...</td>\n",
              "    </tr>\n",
              "  </tbody>\n",
              "</table>\n",
              "<p>187 rows × 3 columns</p>\n",
              "</div>\n",
              "      <button class=\"colab-df-convert\" onclick=\"convertToInteractive('df-f1440ff7-0138-41bb-9af3-e6b737f84b40')\"\n",
              "              title=\"Convert this dataframe to an interactive table.\"\n",
              "              style=\"display:none;\">\n",
              "        \n",
              "  <svg xmlns=\"http://www.w3.org/2000/svg\" height=\"24px\"viewBox=\"0 0 24 24\"\n",
              "       width=\"24px\">\n",
              "    <path d=\"M0 0h24v24H0V0z\" fill=\"none\"/>\n",
              "    <path d=\"M18.56 5.44l.94 2.06.94-2.06 2.06-.94-2.06-.94-.94-2.06-.94 2.06-2.06.94zm-11 1L8.5 8.5l.94-2.06 2.06-.94-2.06-.94L8.5 2.5l-.94 2.06-2.06.94zm10 10l.94 2.06.94-2.06 2.06-.94-2.06-.94-.94-2.06-.94 2.06-2.06.94z\"/><path d=\"M17.41 7.96l-1.37-1.37c-.4-.4-.92-.59-1.43-.59-.52 0-1.04.2-1.43.59L10.3 9.45l-7.72 7.72c-.78.78-.78 2.05 0 2.83L4 21.41c.39.39.9.59 1.41.59.51 0 1.02-.2 1.41-.59l7.78-7.78 2.81-2.81c.8-.78.8-2.07 0-2.86zM5.41 20L4 18.59l7.72-7.72 1.47 1.35L5.41 20z\"/>\n",
              "  </svg>\n",
              "      </button>\n",
              "      \n",
              "  <style>\n",
              "    .colab-df-container {\n",
              "      display:flex;\n",
              "      flex-wrap:wrap;\n",
              "      gap: 12px;\n",
              "    }\n",
              "\n",
              "    .colab-df-convert {\n",
              "      background-color: #E8F0FE;\n",
              "      border: none;\n",
              "      border-radius: 50%;\n",
              "      cursor: pointer;\n",
              "      display: none;\n",
              "      fill: #1967D2;\n",
              "      height: 32px;\n",
              "      padding: 0 0 0 0;\n",
              "      width: 32px;\n",
              "    }\n",
              "\n",
              "    .colab-df-convert:hover {\n",
              "      background-color: #E2EBFA;\n",
              "      box-shadow: 0px 1px 2px rgba(60, 64, 67, 0.3), 0px 1px 3px 1px rgba(60, 64, 67, 0.15);\n",
              "      fill: #174EA6;\n",
              "    }\n",
              "\n",
              "    [theme=dark] .colab-df-convert {\n",
              "      background-color: #3B4455;\n",
              "      fill: #D2E3FC;\n",
              "    }\n",
              "\n",
              "    [theme=dark] .colab-df-convert:hover {\n",
              "      background-color: #434B5C;\n",
              "      box-shadow: 0px 1px 3px 1px rgba(0, 0, 0, 0.15);\n",
              "      filter: drop-shadow(0px 1px 2px rgba(0, 0, 0, 0.3));\n",
              "      fill: #FFFFFF;\n",
              "    }\n",
              "  </style>\n",
              "\n",
              "      <script>\n",
              "        const buttonEl =\n",
              "          document.querySelector('#df-f1440ff7-0138-41bb-9af3-e6b737f84b40 button.colab-df-convert');\n",
              "        buttonEl.style.display =\n",
              "          google.colab.kernel.accessAllowed ? 'block' : 'none';\n",
              "\n",
              "        async function convertToInteractive(key) {\n",
              "          const element = document.querySelector('#df-f1440ff7-0138-41bb-9af3-e6b737f84b40');\n",
              "          const dataTable =\n",
              "            await google.colab.kernel.invokeFunction('convertToInteractive',\n",
              "                                                     [key], {});\n",
              "          if (!dataTable) return;\n",
              "\n",
              "          const docLinkHtml = 'Like what you see? Visit the ' +\n",
              "            '<a target=\"_blank\" href=https://colab.research.google.com/notebooks/data_table.ipynb>data table notebook</a>'\n",
              "            + ' to learn more about interactive tables.';\n",
              "          element.innerHTML = '';\n",
              "          dataTable['output_type'] = 'display_data';\n",
              "          await google.colab.output.renderOutput(dataTable, element);\n",
              "          const docLink = document.createElement('div');\n",
              "          docLink.innerHTML = docLinkHtml;\n",
              "          element.appendChild(docLink);\n",
              "        }\n",
              "      </script>\n",
              "    </div>\n",
              "  </div>\n",
              "  "
            ]
          },
          "metadata": {},
          "execution_count": 10
        }
      ],
      "source": [
        "data_news_all"
      ]
    },
    {
      "cell_type": "code",
      "execution_count": 11,
      "metadata": {
        "id": "EIft7vPuFz_H"
      },
      "outputs": [],
      "source": [
        "# from tqdm import tqdm\n",
        "\n",
        "# news_google2=[]\n",
        "# start_date = date(2022, 9, 20)\n",
        "# end_date=date(2022, 11, 3)\n",
        "\n",
        "# day_count=(end_date-start_date).days\n",
        "# max_page_news=2\n",
        "# for data_search in tqdm(start_date + timedelta(n) for n in range(day_count)):\n",
        "#   st= data_search.strftime(\"%m/%d/%Y\")\n",
        "#   googlenews=GoogleNews(start=st,end=st)\n",
        "#   googlenews.search('btc bitcoin')\n",
        "#   googlenews.page_at(max_page_news)\n",
        "#   result=googlenews.result()\n",
        "#   #time.sleep(15)\n",
        "#   for j in range(len(result)):\n",
        "#     feild=[]\n",
        "#     tiltle_news=result[j][\"title\"]\n",
        "#     link_news=result[j][\"link\"]\n",
        "#     date_news=result[j][\"date\"]\n",
        "#     feild.append(date_news)\n",
        "#     feild.append(tiltle_news)\n",
        "#     feild.append(link_news)\n",
        "#     news_google2.append(feild)\n"
      ]
    },
    {
      "cell_type": "code",
      "execution_count": 12,
      "metadata": {
        "id": "FWxaMrq_J2BY"
      },
      "outputs": [],
      "source": [
        "# # convert to dataset\n",
        "# data_news_all=pd.DataFrame(news_google2,columns=[\"Date\",\"news\",\"link\"]) \n",
        "# # convert string date to date time \n",
        "# data_news_all[\"Date\"]=data_news_all[\"Date\"].apply(lambda x:get_past_date(x))\n",
        "# # convert to datetime\n",
        "# data_news_all['Date'] = pd.to_datetime(data_news_all['Date'],errors='coerce')\n",
        "# # group by days news\n",
        "# data_news_day=data_news_all.groupby(data_news_all['Date'].dt.date,\n",
        "#                             as_index = True).agg( date=('Date','first'),\n",
        "#                                                    news=('news',' '.join))\n",
        "# data_news_day.drop(\"date\",axis=1,inplace=True)\n",
        "# data_news_day"
      ]
    },
    {
      "cell_type": "markdown",
      "metadata": {
        "id": "r6x48POqAfCN"
      },
      "source": [
        "# **vaderSentiment**"
      ]
    },
    {
      "cell_type": "code",
      "execution_count": 13,
      "metadata": {
        "colab": {
          "base_uri": "https://localhost:8080/",
          "height": 175
        },
        "id": "aU_3jK3qjO1U",
        "outputId": "672ab62e-2be2-4c8f-b9e6-085c9a444f49"
      },
      "outputs": [
        {
          "output_type": "execute_result",
          "data": {
            "text/plain": [
              "                                                         news   score    neg  \\\n",
              "Date                                                                           \n",
              "2022-10-17  Bitcoin price is going nowhere without a break...  0.9897  0.041   \n",
              "2022-10-20  What Is DeFi Lending and How Does It Work? – C...  0.6124  0.000   \n",
              "2022-10-27  Weekly Forex Forecast – Bitcoin,Oil,EUR/USD,GB... -0.2732  0.030   \n",
              "\n",
              "              neu    pos  \n",
              "Date                      \n",
              "2022-10-17  0.889  0.070  \n",
              "2022-10-20  0.886  0.114  \n",
              "2022-10-27  0.970  0.000  "
            ],
            "text/html": [
              "\n",
              "  <div id=\"df-a2e10a83-503e-4fe2-a06c-27df5abcf63d\">\n",
              "    <div class=\"colab-df-container\">\n",
              "      <div>\n",
              "<style scoped>\n",
              "    .dataframe tbody tr th:only-of-type {\n",
              "        vertical-align: middle;\n",
              "    }\n",
              "\n",
              "    .dataframe tbody tr th {\n",
              "        vertical-align: top;\n",
              "    }\n",
              "\n",
              "    .dataframe thead th {\n",
              "        text-align: right;\n",
              "    }\n",
              "</style>\n",
              "<table border=\"1\" class=\"dataframe\">\n",
              "  <thead>\n",
              "    <tr style=\"text-align: right;\">\n",
              "      <th></th>\n",
              "      <th>news</th>\n",
              "      <th>score</th>\n",
              "      <th>neg</th>\n",
              "      <th>neu</th>\n",
              "      <th>pos</th>\n",
              "    </tr>\n",
              "    <tr>\n",
              "      <th>Date</th>\n",
              "      <th></th>\n",
              "      <th></th>\n",
              "      <th></th>\n",
              "      <th></th>\n",
              "      <th></th>\n",
              "    </tr>\n",
              "  </thead>\n",
              "  <tbody>\n",
              "    <tr>\n",
              "      <th>2022-10-17</th>\n",
              "      <td>Bitcoin price is going nowhere without a break...</td>\n",
              "      <td>0.9897</td>\n",
              "      <td>0.041</td>\n",
              "      <td>0.889</td>\n",
              "      <td>0.070</td>\n",
              "    </tr>\n",
              "    <tr>\n",
              "      <th>2022-10-20</th>\n",
              "      <td>What Is DeFi Lending and How Does It Work? – C...</td>\n",
              "      <td>0.6124</td>\n",
              "      <td>0.000</td>\n",
              "      <td>0.886</td>\n",
              "      <td>0.114</td>\n",
              "    </tr>\n",
              "    <tr>\n",
              "      <th>2022-10-27</th>\n",
              "      <td>Weekly Forex Forecast – Bitcoin,Oil,EUR/USD,GB...</td>\n",
              "      <td>-0.2732</td>\n",
              "      <td>0.030</td>\n",
              "      <td>0.970</td>\n",
              "      <td>0.000</td>\n",
              "    </tr>\n",
              "  </tbody>\n",
              "</table>\n",
              "</div>\n",
              "      <button class=\"colab-df-convert\" onclick=\"convertToInteractive('df-a2e10a83-503e-4fe2-a06c-27df5abcf63d')\"\n",
              "              title=\"Convert this dataframe to an interactive table.\"\n",
              "              style=\"display:none;\">\n",
              "        \n",
              "  <svg xmlns=\"http://www.w3.org/2000/svg\" height=\"24px\"viewBox=\"0 0 24 24\"\n",
              "       width=\"24px\">\n",
              "    <path d=\"M0 0h24v24H0V0z\" fill=\"none\"/>\n",
              "    <path d=\"M18.56 5.44l.94 2.06.94-2.06 2.06-.94-2.06-.94-.94-2.06-.94 2.06-2.06.94zm-11 1L8.5 8.5l.94-2.06 2.06-.94-2.06-.94L8.5 2.5l-.94 2.06-2.06.94zm10 10l.94 2.06.94-2.06 2.06-.94-2.06-.94-.94-2.06-.94 2.06-2.06.94z\"/><path d=\"M17.41 7.96l-1.37-1.37c-.4-.4-.92-.59-1.43-.59-.52 0-1.04.2-1.43.59L10.3 9.45l-7.72 7.72c-.78.78-.78 2.05 0 2.83L4 21.41c.39.39.9.59 1.41.59.51 0 1.02-.2 1.41-.59l7.78-7.78 2.81-2.81c.8-.78.8-2.07 0-2.86zM5.41 20L4 18.59l7.72-7.72 1.47 1.35L5.41 20z\"/>\n",
              "  </svg>\n",
              "      </button>\n",
              "      \n",
              "  <style>\n",
              "    .colab-df-container {\n",
              "      display:flex;\n",
              "      flex-wrap:wrap;\n",
              "      gap: 12px;\n",
              "    }\n",
              "\n",
              "    .colab-df-convert {\n",
              "      background-color: #E8F0FE;\n",
              "      border: none;\n",
              "      border-radius: 50%;\n",
              "      cursor: pointer;\n",
              "      display: none;\n",
              "      fill: #1967D2;\n",
              "      height: 32px;\n",
              "      padding: 0 0 0 0;\n",
              "      width: 32px;\n",
              "    }\n",
              "\n",
              "    .colab-df-convert:hover {\n",
              "      background-color: #E2EBFA;\n",
              "      box-shadow: 0px 1px 2px rgba(60, 64, 67, 0.3), 0px 1px 3px 1px rgba(60, 64, 67, 0.15);\n",
              "      fill: #174EA6;\n",
              "    }\n",
              "\n",
              "    [theme=dark] .colab-df-convert {\n",
              "      background-color: #3B4455;\n",
              "      fill: #D2E3FC;\n",
              "    }\n",
              "\n",
              "    [theme=dark] .colab-df-convert:hover {\n",
              "      background-color: #434B5C;\n",
              "      box-shadow: 0px 1px 3px 1px rgba(0, 0, 0, 0.15);\n",
              "      filter: drop-shadow(0px 1px 2px rgba(0, 0, 0, 0.3));\n",
              "      fill: #FFFFFF;\n",
              "    }\n",
              "  </style>\n",
              "\n",
              "      <script>\n",
              "        const buttonEl =\n",
              "          document.querySelector('#df-a2e10a83-503e-4fe2-a06c-27df5abcf63d button.colab-df-convert');\n",
              "        buttonEl.style.display =\n",
              "          google.colab.kernel.accessAllowed ? 'block' : 'none';\n",
              "\n",
              "        async function convertToInteractive(key) {\n",
              "          const element = document.querySelector('#df-a2e10a83-503e-4fe2-a06c-27df5abcf63d');\n",
              "          const dataTable =\n",
              "            await google.colab.kernel.invokeFunction('convertToInteractive',\n",
              "                                                     [key], {});\n",
              "          if (!dataTable) return;\n",
              "\n",
              "          const docLinkHtml = 'Like what you see? Visit the ' +\n",
              "            '<a target=\"_blank\" href=https://colab.research.google.com/notebooks/data_table.ipynb>data table notebook</a>'\n",
              "            + ' to learn more about interactive tables.';\n",
              "          element.innerHTML = '';\n",
              "          dataTable['output_type'] = 'display_data';\n",
              "          await google.colab.output.renderOutput(dataTable, element);\n",
              "          const docLink = document.createElement('div');\n",
              "          docLink.innerHTML = docLinkHtml;\n",
              "          element.appendChild(docLink);\n",
              "        }\n",
              "      </script>\n",
              "    </div>\n",
              "  </div>\n",
              "  "
            ]
          },
          "metadata": {},
          "execution_count": 13
        }
      ],
      "source": [
        "from vaderSentiment.vaderSentiment import SentimentIntensityAnalyzer\n",
        "sia = SentimentIntensityAnalyzer()\n",
        "def cal_sentiment(x):\n",
        "  #print('-')\n",
        "  score=sia.polarity_scores(x)\n",
        "  compound=score[\"compound\"]\n",
        "  neg=score[\"neg\"]\n",
        "  neu=score[\"neu\"]\n",
        "  pos=score[\"pos\"]\n",
        "  out_pd=pd.Series([compound,neg,neu,pos],\n",
        "            index=['score','neg','neu',\"pos\"])\n",
        "  \n",
        "  return out_pd\n",
        "\n",
        "data_news_day[['score','neg','neu',\"pos\"]]=data_news_day[\"news\"].apply(lambda x:cal_sentiment(x))\n",
        "data_news_sentiment=data_news_day.copy()\n",
        "data_news_sentiment"
      ]
    },
    {
      "cell_type": "code",
      "execution_count": 14,
      "metadata": {
        "id": "p45HjUqXjhpB"
      },
      "outputs": [],
      "source": [
        "data_main[\"date\"]=pd.to_datetime(data_main.index)\n",
        "data_news_sentiment[\"date\"]=pd.to_datetime(data_news_sentiment.index)\n",
        "data_main.reset_index(drop = True, inplace = True)\n",
        "data_news_sentiment.reset_index(drop = True, inplace = True)\n"
      ]
    },
    {
      "cell_type": "code",
      "execution_count": 15,
      "metadata": {
        "colab": {
          "base_uri": "https://localhost:8080/",
          "height": 423
        },
        "id": "pzISAuW_j3-M",
        "outputId": "0990087b-a959-4e61-cec3-6c23f06c6041"
      },
      "outputs": [
        {
          "output_type": "execute_result",
          "data": {
            "text/plain": [
              "              Open          High           Low         Close     Adj Close  \\\n",
              "0       465.864014    468.174011    452.421997    457.334015    457.334015   \n",
              "1       456.859985    456.859985    413.104004    424.440002    424.440002   \n",
              "2       424.102997    427.834991    384.532013    394.795990    394.795990   \n",
              "3       394.673004    423.295990    389.882996    408.903992    408.903992   \n",
              "4       408.084991    412.425995    393.181000    398.821014    398.821014   \n",
              "...            ...           ...           ...           ...           ...   \n",
              "2979  16799.722656  16920.765625  16320.634766  16353.365234  16353.365234   \n",
              "2980  16352.028320  17109.324219  15872.941406  16618.199219  16618.199219   \n",
              "2981  16617.484375  17051.962891  16542.550781  16884.613281  16884.613281   \n",
              "2982  16884.341797  16960.294922  16430.111328  16669.439453  16669.439453   \n",
              "2983  16669.656250  16726.435547  16462.767578  16518.601562  16518.601562   \n",
              "\n",
              "           Volume       date news  score  neg  neu  pos  \n",
              "0        21056800 2014-09-17    0    0.0  0.0  0.0  0.0  \n",
              "1        34483200 2014-09-18    0    0.0  0.0  0.0  0.0  \n",
              "2        37919700 2014-09-19    0    0.0  0.0  0.0  0.0  \n",
              "3        36863600 2014-09-20    0    0.0  0.0  0.0  0.0  \n",
              "4        26580100 2014-09-21    0    0.0  0.0  0.0  0.0  \n",
              "...           ...        ...  ...    ...  ...  ...  ...  \n",
              "2979  27209183682 2022-11-13    0    0.0  0.0  0.0  0.0  \n",
              "2980  49630243054 2022-11-14    0    0.0  0.0  0.0  0.0  \n",
              "2981  36599436183 2022-11-15    0    0.0  0.0  0.0  0.0  \n",
              "2982  33925512989 2022-11-16    0    0.0  0.0  0.0  0.0  \n",
              "2983  32836845568 2022-11-17    0    0.0  0.0  0.0  0.0  \n",
              "\n",
              "[2984 rows x 12 columns]"
            ],
            "text/html": [
              "\n",
              "  <div id=\"df-4b66677b-71ba-485c-aea8-3b0277d39585\">\n",
              "    <div class=\"colab-df-container\">\n",
              "      <div>\n",
              "<style scoped>\n",
              "    .dataframe tbody tr th:only-of-type {\n",
              "        vertical-align: middle;\n",
              "    }\n",
              "\n",
              "    .dataframe tbody tr th {\n",
              "        vertical-align: top;\n",
              "    }\n",
              "\n",
              "    .dataframe thead th {\n",
              "        text-align: right;\n",
              "    }\n",
              "</style>\n",
              "<table border=\"1\" class=\"dataframe\">\n",
              "  <thead>\n",
              "    <tr style=\"text-align: right;\">\n",
              "      <th></th>\n",
              "      <th>Open</th>\n",
              "      <th>High</th>\n",
              "      <th>Low</th>\n",
              "      <th>Close</th>\n",
              "      <th>Adj Close</th>\n",
              "      <th>Volume</th>\n",
              "      <th>date</th>\n",
              "      <th>news</th>\n",
              "      <th>score</th>\n",
              "      <th>neg</th>\n",
              "      <th>neu</th>\n",
              "      <th>pos</th>\n",
              "    </tr>\n",
              "  </thead>\n",
              "  <tbody>\n",
              "    <tr>\n",
              "      <th>0</th>\n",
              "      <td>465.864014</td>\n",
              "      <td>468.174011</td>\n",
              "      <td>452.421997</td>\n",
              "      <td>457.334015</td>\n",
              "      <td>457.334015</td>\n",
              "      <td>21056800</td>\n",
              "      <td>2014-09-17</td>\n",
              "      <td>0</td>\n",
              "      <td>0.0</td>\n",
              "      <td>0.0</td>\n",
              "      <td>0.0</td>\n",
              "      <td>0.0</td>\n",
              "    </tr>\n",
              "    <tr>\n",
              "      <th>1</th>\n",
              "      <td>456.859985</td>\n",
              "      <td>456.859985</td>\n",
              "      <td>413.104004</td>\n",
              "      <td>424.440002</td>\n",
              "      <td>424.440002</td>\n",
              "      <td>34483200</td>\n",
              "      <td>2014-09-18</td>\n",
              "      <td>0</td>\n",
              "      <td>0.0</td>\n",
              "      <td>0.0</td>\n",
              "      <td>0.0</td>\n",
              "      <td>0.0</td>\n",
              "    </tr>\n",
              "    <tr>\n",
              "      <th>2</th>\n",
              "      <td>424.102997</td>\n",
              "      <td>427.834991</td>\n",
              "      <td>384.532013</td>\n",
              "      <td>394.795990</td>\n",
              "      <td>394.795990</td>\n",
              "      <td>37919700</td>\n",
              "      <td>2014-09-19</td>\n",
              "      <td>0</td>\n",
              "      <td>0.0</td>\n",
              "      <td>0.0</td>\n",
              "      <td>0.0</td>\n",
              "      <td>0.0</td>\n",
              "    </tr>\n",
              "    <tr>\n",
              "      <th>3</th>\n",
              "      <td>394.673004</td>\n",
              "      <td>423.295990</td>\n",
              "      <td>389.882996</td>\n",
              "      <td>408.903992</td>\n",
              "      <td>408.903992</td>\n",
              "      <td>36863600</td>\n",
              "      <td>2014-09-20</td>\n",
              "      <td>0</td>\n",
              "      <td>0.0</td>\n",
              "      <td>0.0</td>\n",
              "      <td>0.0</td>\n",
              "      <td>0.0</td>\n",
              "    </tr>\n",
              "    <tr>\n",
              "      <th>4</th>\n",
              "      <td>408.084991</td>\n",
              "      <td>412.425995</td>\n",
              "      <td>393.181000</td>\n",
              "      <td>398.821014</td>\n",
              "      <td>398.821014</td>\n",
              "      <td>26580100</td>\n",
              "      <td>2014-09-21</td>\n",
              "      <td>0</td>\n",
              "      <td>0.0</td>\n",
              "      <td>0.0</td>\n",
              "      <td>0.0</td>\n",
              "      <td>0.0</td>\n",
              "    </tr>\n",
              "    <tr>\n",
              "      <th>...</th>\n",
              "      <td>...</td>\n",
              "      <td>...</td>\n",
              "      <td>...</td>\n",
              "      <td>...</td>\n",
              "      <td>...</td>\n",
              "      <td>...</td>\n",
              "      <td>...</td>\n",
              "      <td>...</td>\n",
              "      <td>...</td>\n",
              "      <td>...</td>\n",
              "      <td>...</td>\n",
              "      <td>...</td>\n",
              "    </tr>\n",
              "    <tr>\n",
              "      <th>2979</th>\n",
              "      <td>16799.722656</td>\n",
              "      <td>16920.765625</td>\n",
              "      <td>16320.634766</td>\n",
              "      <td>16353.365234</td>\n",
              "      <td>16353.365234</td>\n",
              "      <td>27209183682</td>\n",
              "      <td>2022-11-13</td>\n",
              "      <td>0</td>\n",
              "      <td>0.0</td>\n",
              "      <td>0.0</td>\n",
              "      <td>0.0</td>\n",
              "      <td>0.0</td>\n",
              "    </tr>\n",
              "    <tr>\n",
              "      <th>2980</th>\n",
              "      <td>16352.028320</td>\n",
              "      <td>17109.324219</td>\n",
              "      <td>15872.941406</td>\n",
              "      <td>16618.199219</td>\n",
              "      <td>16618.199219</td>\n",
              "      <td>49630243054</td>\n",
              "      <td>2022-11-14</td>\n",
              "      <td>0</td>\n",
              "      <td>0.0</td>\n",
              "      <td>0.0</td>\n",
              "      <td>0.0</td>\n",
              "      <td>0.0</td>\n",
              "    </tr>\n",
              "    <tr>\n",
              "      <th>2981</th>\n",
              "      <td>16617.484375</td>\n",
              "      <td>17051.962891</td>\n",
              "      <td>16542.550781</td>\n",
              "      <td>16884.613281</td>\n",
              "      <td>16884.613281</td>\n",
              "      <td>36599436183</td>\n",
              "      <td>2022-11-15</td>\n",
              "      <td>0</td>\n",
              "      <td>0.0</td>\n",
              "      <td>0.0</td>\n",
              "      <td>0.0</td>\n",
              "      <td>0.0</td>\n",
              "    </tr>\n",
              "    <tr>\n",
              "      <th>2982</th>\n",
              "      <td>16884.341797</td>\n",
              "      <td>16960.294922</td>\n",
              "      <td>16430.111328</td>\n",
              "      <td>16669.439453</td>\n",
              "      <td>16669.439453</td>\n",
              "      <td>33925512989</td>\n",
              "      <td>2022-11-16</td>\n",
              "      <td>0</td>\n",
              "      <td>0.0</td>\n",
              "      <td>0.0</td>\n",
              "      <td>0.0</td>\n",
              "      <td>0.0</td>\n",
              "    </tr>\n",
              "    <tr>\n",
              "      <th>2983</th>\n",
              "      <td>16669.656250</td>\n",
              "      <td>16726.435547</td>\n",
              "      <td>16462.767578</td>\n",
              "      <td>16518.601562</td>\n",
              "      <td>16518.601562</td>\n",
              "      <td>32836845568</td>\n",
              "      <td>2022-11-17</td>\n",
              "      <td>0</td>\n",
              "      <td>0.0</td>\n",
              "      <td>0.0</td>\n",
              "      <td>0.0</td>\n",
              "      <td>0.0</td>\n",
              "    </tr>\n",
              "  </tbody>\n",
              "</table>\n",
              "<p>2984 rows × 12 columns</p>\n",
              "</div>\n",
              "      <button class=\"colab-df-convert\" onclick=\"convertToInteractive('df-4b66677b-71ba-485c-aea8-3b0277d39585')\"\n",
              "              title=\"Convert this dataframe to an interactive table.\"\n",
              "              style=\"display:none;\">\n",
              "        \n",
              "  <svg xmlns=\"http://www.w3.org/2000/svg\" height=\"24px\"viewBox=\"0 0 24 24\"\n",
              "       width=\"24px\">\n",
              "    <path d=\"M0 0h24v24H0V0z\" fill=\"none\"/>\n",
              "    <path d=\"M18.56 5.44l.94 2.06.94-2.06 2.06-.94-2.06-.94-.94-2.06-.94 2.06-2.06.94zm-11 1L8.5 8.5l.94-2.06 2.06-.94-2.06-.94L8.5 2.5l-.94 2.06-2.06.94zm10 10l.94 2.06.94-2.06 2.06-.94-2.06-.94-.94-2.06-.94 2.06-2.06.94z\"/><path d=\"M17.41 7.96l-1.37-1.37c-.4-.4-.92-.59-1.43-.59-.52 0-1.04.2-1.43.59L10.3 9.45l-7.72 7.72c-.78.78-.78 2.05 0 2.83L4 21.41c.39.39.9.59 1.41.59.51 0 1.02-.2 1.41-.59l7.78-7.78 2.81-2.81c.8-.78.8-2.07 0-2.86zM5.41 20L4 18.59l7.72-7.72 1.47 1.35L5.41 20z\"/>\n",
              "  </svg>\n",
              "      </button>\n",
              "      \n",
              "  <style>\n",
              "    .colab-df-container {\n",
              "      display:flex;\n",
              "      flex-wrap:wrap;\n",
              "      gap: 12px;\n",
              "    }\n",
              "\n",
              "    .colab-df-convert {\n",
              "      background-color: #E8F0FE;\n",
              "      border: none;\n",
              "      border-radius: 50%;\n",
              "      cursor: pointer;\n",
              "      display: none;\n",
              "      fill: #1967D2;\n",
              "      height: 32px;\n",
              "      padding: 0 0 0 0;\n",
              "      width: 32px;\n",
              "    }\n",
              "\n",
              "    .colab-df-convert:hover {\n",
              "      background-color: #E2EBFA;\n",
              "      box-shadow: 0px 1px 2px rgba(60, 64, 67, 0.3), 0px 1px 3px 1px rgba(60, 64, 67, 0.15);\n",
              "      fill: #174EA6;\n",
              "    }\n",
              "\n",
              "    [theme=dark] .colab-df-convert {\n",
              "      background-color: #3B4455;\n",
              "      fill: #D2E3FC;\n",
              "    }\n",
              "\n",
              "    [theme=dark] .colab-df-convert:hover {\n",
              "      background-color: #434B5C;\n",
              "      box-shadow: 0px 1px 3px 1px rgba(0, 0, 0, 0.15);\n",
              "      filter: drop-shadow(0px 1px 2px rgba(0, 0, 0, 0.3));\n",
              "      fill: #FFFFFF;\n",
              "    }\n",
              "  </style>\n",
              "\n",
              "      <script>\n",
              "        const buttonEl =\n",
              "          document.querySelector('#df-4b66677b-71ba-485c-aea8-3b0277d39585 button.colab-df-convert');\n",
              "        buttonEl.style.display =\n",
              "          google.colab.kernel.accessAllowed ? 'block' : 'none';\n",
              "\n",
              "        async function convertToInteractive(key) {\n",
              "          const element = document.querySelector('#df-4b66677b-71ba-485c-aea8-3b0277d39585');\n",
              "          const dataTable =\n",
              "            await google.colab.kernel.invokeFunction('convertToInteractive',\n",
              "                                                     [key], {});\n",
              "          if (!dataTable) return;\n",
              "\n",
              "          const docLinkHtml = 'Like what you see? Visit the ' +\n",
              "            '<a target=\"_blank\" href=https://colab.research.google.com/notebooks/data_table.ipynb>data table notebook</a>'\n",
              "            + ' to learn more about interactive tables.';\n",
              "          element.innerHTML = '';\n",
              "          dataTable['output_type'] = 'display_data';\n",
              "          await google.colab.output.renderOutput(dataTable, element);\n",
              "          const docLink = document.createElement('div');\n",
              "          docLink.innerHTML = docLinkHtml;\n",
              "          element.appendChild(docLink);\n",
              "        }\n",
              "      </script>\n",
              "    </div>\n",
              "  </div>\n",
              "  "
            ]
          },
          "metadata": {},
          "execution_count": 15
        }
      ],
      "source": [
        "data_final=pd.merge(data_main,data_news_sentiment, on=\"date\",how=\"left\")\n",
        "data_final=data_final.fillna(0)\n",
        "data_final.replace(np.inf,0,inplace=True)\n",
        "data_final"
      ]
    },
    {
      "cell_type": "markdown",
      "metadata": {
        "id": "qmwRItpjECgL"
      },
      "source": [
        "# **Normalization**"
      ]
    },
    {
      "cell_type": "code",
      "execution_count": 16,
      "metadata": {
        "colab": {
          "base_uri": "https://localhost:8080/",
          "height": 423
        },
        "id": "aoxEnOvN7Cjv",
        "outputId": "386cb81e-8458-4593-ecce-bdc4be30c416"
      },
      "outputs": [
        {
          "output_type": "execute_result",
          "data": {
            "text/plain": [
              "             Close  score\n",
              "0       457.334015    0.0\n",
              "1       424.440002    0.0\n",
              "2       394.795990    0.0\n",
              "3       408.903992    0.0\n",
              "4       398.821014    0.0\n",
              "...            ...    ...\n",
              "2979  16353.365234    0.0\n",
              "2980  16618.199219    0.0\n",
              "2981  16884.613281    0.0\n",
              "2982  16669.439453    0.0\n",
              "2983  16518.601562    0.0\n",
              "\n",
              "[2984 rows x 2 columns]"
            ],
            "text/html": [
              "\n",
              "  <div id=\"df-78c65644-e62f-4078-8292-eae5b661abc9\">\n",
              "    <div class=\"colab-df-container\">\n",
              "      <div>\n",
              "<style scoped>\n",
              "    .dataframe tbody tr th:only-of-type {\n",
              "        vertical-align: middle;\n",
              "    }\n",
              "\n",
              "    .dataframe tbody tr th {\n",
              "        vertical-align: top;\n",
              "    }\n",
              "\n",
              "    .dataframe thead th {\n",
              "        text-align: right;\n",
              "    }\n",
              "</style>\n",
              "<table border=\"1\" class=\"dataframe\">\n",
              "  <thead>\n",
              "    <tr style=\"text-align: right;\">\n",
              "      <th></th>\n",
              "      <th>Close</th>\n",
              "      <th>score</th>\n",
              "    </tr>\n",
              "  </thead>\n",
              "  <tbody>\n",
              "    <tr>\n",
              "      <th>0</th>\n",
              "      <td>457.334015</td>\n",
              "      <td>0.0</td>\n",
              "    </tr>\n",
              "    <tr>\n",
              "      <th>1</th>\n",
              "      <td>424.440002</td>\n",
              "      <td>0.0</td>\n",
              "    </tr>\n",
              "    <tr>\n",
              "      <th>2</th>\n",
              "      <td>394.795990</td>\n",
              "      <td>0.0</td>\n",
              "    </tr>\n",
              "    <tr>\n",
              "      <th>3</th>\n",
              "      <td>408.903992</td>\n",
              "      <td>0.0</td>\n",
              "    </tr>\n",
              "    <tr>\n",
              "      <th>4</th>\n",
              "      <td>398.821014</td>\n",
              "      <td>0.0</td>\n",
              "    </tr>\n",
              "    <tr>\n",
              "      <th>...</th>\n",
              "      <td>...</td>\n",
              "      <td>...</td>\n",
              "    </tr>\n",
              "    <tr>\n",
              "      <th>2979</th>\n",
              "      <td>16353.365234</td>\n",
              "      <td>0.0</td>\n",
              "    </tr>\n",
              "    <tr>\n",
              "      <th>2980</th>\n",
              "      <td>16618.199219</td>\n",
              "      <td>0.0</td>\n",
              "    </tr>\n",
              "    <tr>\n",
              "      <th>2981</th>\n",
              "      <td>16884.613281</td>\n",
              "      <td>0.0</td>\n",
              "    </tr>\n",
              "    <tr>\n",
              "      <th>2982</th>\n",
              "      <td>16669.439453</td>\n",
              "      <td>0.0</td>\n",
              "    </tr>\n",
              "    <tr>\n",
              "      <th>2983</th>\n",
              "      <td>16518.601562</td>\n",
              "      <td>0.0</td>\n",
              "    </tr>\n",
              "  </tbody>\n",
              "</table>\n",
              "<p>2984 rows × 2 columns</p>\n",
              "</div>\n",
              "      <button class=\"colab-df-convert\" onclick=\"convertToInteractive('df-78c65644-e62f-4078-8292-eae5b661abc9')\"\n",
              "              title=\"Convert this dataframe to an interactive table.\"\n",
              "              style=\"display:none;\">\n",
              "        \n",
              "  <svg xmlns=\"http://www.w3.org/2000/svg\" height=\"24px\"viewBox=\"0 0 24 24\"\n",
              "       width=\"24px\">\n",
              "    <path d=\"M0 0h24v24H0V0z\" fill=\"none\"/>\n",
              "    <path d=\"M18.56 5.44l.94 2.06.94-2.06 2.06-.94-2.06-.94-.94-2.06-.94 2.06-2.06.94zm-11 1L8.5 8.5l.94-2.06 2.06-.94-2.06-.94L8.5 2.5l-.94 2.06-2.06.94zm10 10l.94 2.06.94-2.06 2.06-.94-2.06-.94-.94-2.06-.94 2.06-2.06.94z\"/><path d=\"M17.41 7.96l-1.37-1.37c-.4-.4-.92-.59-1.43-.59-.52 0-1.04.2-1.43.59L10.3 9.45l-7.72 7.72c-.78.78-.78 2.05 0 2.83L4 21.41c.39.39.9.59 1.41.59.51 0 1.02-.2 1.41-.59l7.78-7.78 2.81-2.81c.8-.78.8-2.07 0-2.86zM5.41 20L4 18.59l7.72-7.72 1.47 1.35L5.41 20z\"/>\n",
              "  </svg>\n",
              "      </button>\n",
              "      \n",
              "  <style>\n",
              "    .colab-df-container {\n",
              "      display:flex;\n",
              "      flex-wrap:wrap;\n",
              "      gap: 12px;\n",
              "    }\n",
              "\n",
              "    .colab-df-convert {\n",
              "      background-color: #E8F0FE;\n",
              "      border: none;\n",
              "      border-radius: 50%;\n",
              "      cursor: pointer;\n",
              "      display: none;\n",
              "      fill: #1967D2;\n",
              "      height: 32px;\n",
              "      padding: 0 0 0 0;\n",
              "      width: 32px;\n",
              "    }\n",
              "\n",
              "    .colab-df-convert:hover {\n",
              "      background-color: #E2EBFA;\n",
              "      box-shadow: 0px 1px 2px rgba(60, 64, 67, 0.3), 0px 1px 3px 1px rgba(60, 64, 67, 0.15);\n",
              "      fill: #174EA6;\n",
              "    }\n",
              "\n",
              "    [theme=dark] .colab-df-convert {\n",
              "      background-color: #3B4455;\n",
              "      fill: #D2E3FC;\n",
              "    }\n",
              "\n",
              "    [theme=dark] .colab-df-convert:hover {\n",
              "      background-color: #434B5C;\n",
              "      box-shadow: 0px 1px 3px 1px rgba(0, 0, 0, 0.15);\n",
              "      filter: drop-shadow(0px 1px 2px rgba(0, 0, 0, 0.3));\n",
              "      fill: #FFFFFF;\n",
              "    }\n",
              "  </style>\n",
              "\n",
              "      <script>\n",
              "        const buttonEl =\n",
              "          document.querySelector('#df-78c65644-e62f-4078-8292-eae5b661abc9 button.colab-df-convert');\n",
              "        buttonEl.style.display =\n",
              "          google.colab.kernel.accessAllowed ? 'block' : 'none';\n",
              "\n",
              "        async function convertToInteractive(key) {\n",
              "          const element = document.querySelector('#df-78c65644-e62f-4078-8292-eae5b661abc9');\n",
              "          const dataTable =\n",
              "            await google.colab.kernel.invokeFunction('convertToInteractive',\n",
              "                                                     [key], {});\n",
              "          if (!dataTable) return;\n",
              "\n",
              "          const docLinkHtml = 'Like what you see? Visit the ' +\n",
              "            '<a target=\"_blank\" href=https://colab.research.google.com/notebooks/data_table.ipynb>data table notebook</a>'\n",
              "            + ' to learn more about interactive tables.';\n",
              "          element.innerHTML = '';\n",
              "          dataTable['output_type'] = 'display_data';\n",
              "          await google.colab.output.renderOutput(dataTable, element);\n",
              "          const docLink = document.createElement('div');\n",
              "          docLink.innerHTML = docLinkHtml;\n",
              "          element.appendChild(docLink);\n",
              "        }\n",
              "      </script>\n",
              "    </div>\n",
              "  </div>\n",
              "  "
            ]
          },
          "metadata": {},
          "execution_count": 16
        }
      ],
      "source": [
        "data_ready=data_final[[\"Close\",\"score\"]].copy()\n",
        "data_ready = data_ready.sort_index(ascending=True, axis=0)\n",
        "data_ready"
      ]
    },
    {
      "cell_type": "code",
      "execution_count": 17,
      "metadata": {
        "id": "-hqvCJ-LKsY-"
      },
      "outputs": [],
      "source": [
        "# pred=lstm_model.predict(x_test)"
      ]
    },
    {
      "cell_type": "code",
      "execution_count": 18,
      "metadata": {
        "colab": {
          "base_uri": "https://localhost:8080/"
        },
        "id": "-iRzCVHfC4oc",
        "outputId": "e3ed40f0-8b8c-421c-c00b-cb10558aa635"
      },
      "outputs": [
        {
          "output_type": "stream",
          "name": "stdout",
          "text": [
            "Close\n",
            "score\n"
          ]
        }
      ],
      "source": [
        "from sklearn.preprocessing import MinMaxScaler\n",
        "data_normal=data_ready.copy()\n",
        "sce=MinMaxScaler(feature_range=(-1,1))\n",
        "for col_name in (data_ready.columns):\n",
        "  print(col_name)\n",
        "  data_col=data_ready[col_name].values.reshape(-1,1)\n",
        "  data_normal[col_name]=sce.fit_transform(data_col)\n"
      ]
    },
    {
      "cell_type": "markdown",
      "metadata": {
        "id": "WWugnSdWEH8q"
      },
      "source": [
        "# **split data and window**"
      ]
    },
    {
      "cell_type": "code",
      "execution_count": 19,
      "metadata": {
        "colab": {
          "base_uri": "https://localhost:8080/"
        },
        "id": "TojSPMQjBo8U",
        "outputId": "1483eee0-60c0-424e-b774-8fd3e66c7ce0"
      },
      "outputs": [
        {
          "output_type": "stream",
          "name": "stdout",
          "text": [
            "__________________________________________________\n",
            "-> data_train  shape = (2089, 2)\n",
            "-> data_test   shape = (955, 2)\n",
            "__________________________________________________\n"
          ]
        }
      ],
      "source": [
        "win=60\n",
        "data_hybrid=data_normal.values\n",
        "trian_Percentage=0.70\n",
        "idx=round(data_hybrid.shape[0]*trian_Percentage)\n",
        "data_train=data_hybrid[0:idx,:]\n",
        "data_test=data_hybrid[idx-60:,:]\n",
        "\n",
        "print(\"_\"*50)\n",
        "print('-> data_train  shape = {0}'.format(data_train.shape))\n",
        "print('-> data_test   shape = {0}'.format(data_test.shape))\n",
        "print(\"_\"*50)"
      ]
    },
    {
      "cell_type": "code",
      "execution_count": 20,
      "metadata": {
        "colab": {
          "base_uri": "https://localhost:8080/"
        },
        "id": "HyMDq-7-BRaN",
        "outputId": "8c946682-fa61-4c3c-fcbc-6993bfdebe38"
      },
      "outputs": [
        {
          "output_type": "stream",
          "name": "stdout",
          "text": [
            "__________________________________________________\n",
            "-> x_train  shape = (2029, 60, 2)\n",
            "-> y_train   shape = (2029,)\n",
            "__________________________________________________\n",
            "__________________________________________________\n",
            "-> x_test  shape = (895, 60, 2)\n",
            "-> y_test   shape = (895,)\n",
            "__________________________________________________\n"
          ]
        }
      ],
      "source": [
        "#create window\n",
        "\n",
        "x_train, y_train = [], []\n",
        "for i in range(win,data_train.shape[0]):\n",
        "    x_train.append(data_train[i-win:i,:])\n",
        "    y_train.append(data_train[i,0])\n",
        "x_train, y_train = np.array(x_train), np.array(y_train)\n",
        "\n",
        "print(\"_\"*50)\n",
        "print('-> x_train  shape = {0}'.format(x_train.shape))\n",
        "print('-> y_train   shape = {0}'.format(y_train.shape))\n",
        "print(\"_\"*50)\n",
        "\n",
        "#create window test\n",
        "x_test, y_test = [], []\n",
        "for i in range(win,data_test.shape[0]):\n",
        "    x_test.append(data_test[i-win:i,:])\n",
        "    y_test.append(data_test[i,0])\n",
        "x_test, y_test = np.array(x_test), np.array(y_test)\n",
        "\n",
        "print(\"_\"*50)\n",
        "print('-> x_test  shape = {0}'.format(x_test.shape))\n",
        "print('-> y_test   shape = {0}'.format(y_test.shape))\n",
        "print(\"_\"*50)"
      ]
    },
    {
      "cell_type": "code",
      "execution_count": 21,
      "metadata": {
        "colab": {
          "base_uri": "https://localhost:8080/",
          "height": 424
        },
        "id": "tL0kv8_dEnR7",
        "outputId": "2143910e-e460-4052-edb0-1daa2a2e08ba"
      },
      "outputs": [
        {
          "output_type": "display_data",
          "data": {
            "text/plain": [
              "<Figure size 576x432 with 1 Axes>"
            ],
            "image/png": "[encoded data removed]"
          },
          "metadata": {
            "needs_background": "light"
          }
        }
      ],
      "source": [
        "from matplotlib.dates import DateFormatter\n",
        "fig, ax = plt.subplots(figsize=(8,6))\n",
        "ax.plot(data_main[\"date\"][win:idx],y_train)\n",
        "myFmt = DateFormatter(\"%Y-%m-%d\")\n",
        "ax.xaxis.set_major_formatter(myFmt)\n",
        "plt.setp(ax.get_xticklabels(), rotation = 15)\n",
        "plt.title(\"train data\")\n",
        "plt.xlabel('Date', fontsize=15)\n",
        "plt.ylabel('Value', fontsize=15)\n",
        "plt.show()"
      ]
    },
    {
      "cell_type": "code",
      "execution_count": 22,
      "metadata": {
        "colab": {
          "base_uri": "https://localhost:8080/",
          "height": 424
        },
        "id": "SqSytw1XFQt-",
        "outputId": "844f7142-3bc8-4a79-b0a2-ec4458a817d4"
      },
      "outputs": [
        {
          "output_type": "display_data",
          "data": {
            "text/plain": [
              "<Figure size 576x432 with 1 Axes>"
            ],
            "image/png": "[encoded data removed]"
          },
          "metadata": {
            "needs_background": "light"
          }
        }
      ],
      "source": [
        "from matplotlib.dates import DateFormatter\n",
        "fig, ax = plt.subplots(figsize=(8,6))\n",
        "ax.plot(data_main[\"date\"][idx:],y_test)\n",
        "myFmt = DateFormatter(\"%Y-%m-%d\")\n",
        "ax.xaxis.set_major_formatter(myFmt)\n",
        "plt.setp(ax.get_xticklabels(), rotation = 15)\n",
        "plt.title(\"test data\")\n",
        "plt.xlabel('Date', fontsize=15)\n",
        "plt.ylabel('Value', fontsize=15)\n",
        "plt.show()"
      ]
    },
    {
      "cell_type": "code",
      "execution_count": 23,
      "metadata": {
        "colab": {
          "base_uri": "https://localhost:8080/",
          "height": 424
        },
        "id": "nYEM19MEFVxN",
        "outputId": "04e106ff-8446-4745-951c-bb5b0e7bcf4f"
      },
      "outputs": [
        {
          "output_type": "display_data",
          "data": {
            "text/plain": [
              "<Figure size 576x432 with 1 Axes>"
            ],
            "image/png": "[encoded data removed]"
          },
          "metadata": {
            "needs_background": "light"
          }
        }
      ],
      "source": [
        "from matplotlib.dates import DateFormatter\n",
        "fig, ax = plt.subplots(figsize=(8,6))\n",
        "ax.plot(data_main[\"date\"],data_ready[\"Close\"])\n",
        "myFmt = DateFormatter(\"%Y-%m-%d\")\n",
        "ax.xaxis.set_major_formatter(myFmt)\n",
        "plt.setp(ax.get_xticklabels(), rotation = 15)\n",
        "plt.title(\"all data\")\n",
        "plt.xlabel('Date', fontsize=15)\n",
        "plt.ylabel('Value', fontsize=15)\n",
        "plt.show()"
      ]
    },
    {
      "cell_type": "code",
      "execution_count": 24,
      "metadata": {
        "colab": {
          "base_uri": "https://localhost:8080/",
          "height": 424
        },
        "id": "TVAh5HbgYMKS",
        "outputId": "03352e8f-0c9f-4ff3-e30b-c5cdb8a8f4e4"
      },
      "outputs": [
        {
          "output_type": "display_data",
          "data": {
            "text/plain": [
              "<Figure size 576x432 with 1 Axes>"
            ],
            "image/png": "[encoded data removed]"
          },
          "metadata": {
            "needs_background": "light"
          }
        }
      ],
      "source": [
        "from matplotlib.dates import DateFormatter\n",
        "fig, ax = plt.subplots(figsize=(8,6))\n",
        "ax.plot(data_main[\"date\"][win:idx],y_train)\n",
        "ax.plot(data_main[\"date\"][idx:],y_test)\n",
        "myFmt = DateFormatter(\"%Y-%m-%d\")\n",
        "ax.xaxis.set_major_formatter(myFmt)\n",
        "plt.setp(ax.get_xticklabels(), rotation = 15)\n",
        "plt.title(\"test data\")\n",
        "plt.xlabel('Date', fontsize=15)\n",
        "plt.ylabel('Value', fontsize=15)\n",
        "plt.show()"
      ]
    },
    {
      "cell_type": "markdown",
      "metadata": {
        "id": "89S4dJnSD9zH"
      },
      "source": [
        "# **LSTM**"
      ]
    },
    {
      "cell_type": "code",
      "execution_count": 25,
      "metadata": {
        "colab": {
          "base_uri": "https://localhost:8080/"
        },
        "id": "-0L9KQG5E2Hs",
        "outputId": "a38fae58-0554-4515-b49b-e89b8df656a3"
      },
      "outputs": [
        {
          "output_type": "stream",
          "name": "stdout",
          "text": [
            "Model: \"sequential\"\n",
            "_________________________________________________________________\n",
            " Layer (type)                Output Shape              Param #   \n",
            "=================================================================\n",
            " lstm (LSTM)                 (None, 60, 250)           253000    \n",
            "                                                                 \n",
            " lstm_1 (LSTM)               (None, 128)               194048    \n",
            "                                                                 \n",
            " dropout (Dropout)           (None, 128)               0         \n",
            "                                                                 \n",
            " dense (Dense)               (None, 1)                 129       \n",
            "                                                                 \n",
            "=================================================================\n",
            "Total params: 447,177\n",
            "Trainable params: 447,177\n",
            "Non-trainable params: 0\n",
            "_________________________________________________________________\n"
          ]
        }
      ],
      "source": [
        "from keras.models import Sequential\n",
        "from keras.layers import LSTM\n",
        "from keras.layers import Dense\n",
        "from keras.layers import Dropout\n",
        "from keras.layers import BatchNormalization\n",
        "from tensorflow import keras\n",
        "\n",
        "\n",
        "#initialisizng the model \n",
        "lstm_model= Sequential()\n",
        "lstm_model.add(LSTM(units=250,return_sequences=True,\n",
        "                    input_shape=(x_train.shape[1],x_train.shape[2])))\n",
        "lstm_model.add(LSTM(units=128))\n",
        "lstm_model.add(Dropout(0.25)) #avoid overfitting in LSTM\n",
        "lstm_model.add(Dense(units=1))\n",
        "\n",
        "#----- compile model\n",
        "opt = keras.optimizers.Adam(learning_rate=0.0001)\n",
        "lstm_model.compile(optimizer='adam',loss='mean_squared_error')\n",
        "lstm_model.summary()\n",
        "\n"
      ]
    },
    {
      "cell_type": "code",
      "execution_count": 26,
      "metadata": {
        "colab": {
          "base_uri": "https://localhost:8080/"
        },
        "id": "EUR1JkU2E73s",
        "outputId": "e473f620-03fe-4f29-ce42-18e13385a5f9"
      },
      "outputs": [
        {
          "output_type": "stream",
          "name": "stdout",
          "text": [
            "Epoch 1/100\n",
            "8/8 [==============================] - 9s 145ms/step - loss: 0.1469 - val_loss: 0.0746\n",
            "Epoch 2/100\n",
            "8/8 [==============================] - 0s 29ms/step - loss: 0.0251 - val_loss: 0.0820\n",
            "Epoch 3/100\n",
            "8/8 [==============================] - 0s 28ms/step - loss: 0.0124 - val_loss: 0.0648\n",
            "Epoch 4/100\n",
            "8/8 [==============================] - 0s 28ms/step - loss: 0.0081 - val_loss: 0.0620\n",
            "Epoch 5/100\n",
            "8/8 [==============================] - 0s 28ms/step - loss: 0.0069 - val_loss: 0.0474\n",
            "Epoch 6/100\n",
            "8/8 [==============================] - 0s 29ms/step - loss: 0.0058 - val_loss: 0.0391\n",
            "Epoch 7/100\n",
            "8/8 [==============================] - 0s 27ms/step - loss: 0.0055 - val_loss: 0.0286\n",
            "Epoch 8/100\n",
            "8/8 [==============================] - 0s 28ms/step - loss: 0.0044 - val_loss: 0.0207\n",
            "Epoch 9/100\n",
            "8/8 [==============================] - 0s 28ms/step - loss: 0.0044 - val_loss: 0.0153\n",
            "Epoch 10/100\n",
            "8/8 [==============================] - 0s 29ms/step - loss: 0.0042 - val_loss: 0.0110\n",
            "Epoch 11/100\n",
            "8/8 [==============================] - 0s 28ms/step - loss: 0.0039 - val_loss: 0.0091\n",
            "Epoch 12/100\n",
            "8/8 [==============================] - 0s 27ms/step - loss: 0.0036 - val_loss: 0.0088\n",
            "Epoch 13/100\n",
            "8/8 [==============================] - 0s 28ms/step - loss: 0.0034 - val_loss: 0.0095\n",
            "Epoch 14/100\n",
            "8/8 [==============================] - 0s 28ms/step - loss: 0.0034 - val_loss: 0.0101\n",
            "Epoch 15/100\n",
            "8/8 [==============================] - 0s 28ms/step - loss: 0.0033 - val_loss: 0.0105\n",
            "Epoch 16/100\n",
            "8/8 [==============================] - 0s 28ms/step - loss: 0.0034 - val_loss: 0.0106\n",
            "Epoch 17/100\n",
            "8/8 [==============================] - 0s 28ms/step - loss: 0.0033 - val_loss: 0.0104\n",
            "Epoch 18/100\n",
            "8/8 [==============================] - 0s 28ms/step - loss: 0.0031 - val_loss: 0.0099\n",
            "Epoch 19/100\n",
            "8/8 [==============================] - 0s 28ms/step - loss: 0.0033 - val_loss: 0.0094\n",
            "Epoch 20/100\n",
            "8/8 [==============================] - 0s 28ms/step - loss: 0.0032 - val_loss: 0.0088\n",
            "Epoch 21/100\n",
            "8/8 [==============================] - 0s 28ms/step - loss: 0.0029 - val_loss: 0.0085\n",
            "Epoch 22/100\n",
            "8/8 [==============================] - 0s 29ms/step - loss: 0.0028 - val_loss: 0.0082\n",
            "Epoch 23/100\n",
            "8/8 [==============================] - 0s 28ms/step - loss: 0.0031 - val_loss: 0.0081\n",
            "Epoch 24/100\n",
            "8/8 [==============================] - 0s 29ms/step - loss: 0.0031 - val_loss: 0.0082\n",
            "Epoch 25/100\n",
            "8/8 [==============================] - 0s 28ms/step - loss: 0.0030 - val_loss: 0.0082\n",
            "Epoch 26/100\n",
            "8/8 [==============================] - 0s 27ms/step - loss: 0.0029 - val_loss: 0.0082\n",
            "Epoch 27/100\n",
            "8/8 [==============================] - 0s 28ms/step - loss: 0.0029 - val_loss: 0.0081\n",
            "Epoch 28/100\n",
            "8/8 [==============================] - 0s 28ms/step - loss: 0.0030 - val_loss: 0.0080\n",
            "Epoch 29/100\n",
            "8/8 [==============================] - 0s 28ms/step - loss: 0.0029 - val_loss: 0.0080\n",
            "Epoch 30/100\n",
            "8/8 [==============================] - 0s 28ms/step - loss: 0.0027 - val_loss: 0.0081\n",
            "Epoch 31/100\n",
            "8/8 [==============================] - 0s 28ms/step - loss: 0.0028 - val_loss: 0.0081\n",
            "Epoch 32/100\n",
            "8/8 [==============================] - 0s 28ms/step - loss: 0.0027 - val_loss: 0.0079\n",
            "Epoch 33/100\n",
            "8/8 [==============================] - 0s 29ms/step - loss: 0.0027 - val_loss: 0.0079\n",
            "Epoch 34/100\n",
            "8/8 [==============================] - 0s 28ms/step - loss: 0.0028 - val_loss: 0.0079\n",
            "Epoch 35/100\n",
            "8/8 [==============================] - 0s 28ms/step - loss: 0.0028 - val_loss: 0.0079\n",
            "Epoch 36/100\n",
            "8/8 [==============================] - 0s 28ms/step - loss: 0.0028 - val_loss: 0.0078\n",
            "Epoch 37/100\n",
            "8/8 [==============================] - 0s 28ms/step - loss: 0.0026 - val_loss: 0.0078\n",
            "Epoch 38/100\n",
            "8/8 [==============================] - 0s 28ms/step - loss: 0.0026 - val_loss: 0.0078\n",
            "Epoch 39/100\n",
            "8/8 [==============================] - 0s 28ms/step - loss: 0.0028 - val_loss: 0.0079\n",
            "Epoch 40/100\n",
            "8/8 [==============================] - 0s 28ms/step - loss: 0.0028 - val_loss: 0.0079\n",
            "Epoch 41/100\n",
            "8/8 [==============================] - 0s 29ms/step - loss: 0.0028 - val_loss: 0.0079\n",
            "Epoch 42/100\n",
            "8/8 [==============================] - 0s 29ms/step - loss: 0.0026 - val_loss: 0.0081\n",
            "Epoch 43/100\n",
            "8/8 [==============================] - 0s 28ms/step - loss: 0.0026 - val_loss: 0.0078\n",
            "Epoch 44/100\n",
            "8/8 [==============================] - 0s 28ms/step - loss: 0.0026 - val_loss: 0.0077\n",
            "Epoch 45/100\n",
            "8/8 [==============================] - 0s 28ms/step - loss: 0.0028 - val_loss: 0.0077\n",
            "Epoch 46/100\n",
            "8/8 [==============================] - 0s 28ms/step - loss: 0.0027 - val_loss: 0.0078\n",
            "Epoch 47/100\n",
            "8/8 [==============================] - 0s 32ms/step - loss: 0.0026 - val_loss: 0.0080\n",
            "Epoch 48/100\n",
            "8/8 [==============================] - 0s 28ms/step - loss: 0.0027 - val_loss: 0.0081\n",
            "Epoch 49/100\n",
            "8/8 [==============================] - 0s 28ms/step - loss: 0.0026 - val_loss: 0.0079\n",
            "Epoch 50/100\n",
            "8/8 [==============================] - 0s 29ms/step - loss: 0.0026 - val_loss: 0.0078\n",
            "Epoch 51/100\n",
            "8/8 [==============================] - 0s 28ms/step - loss: 0.0025 - val_loss: 0.0077\n",
            "Epoch 52/100\n",
            "8/8 [==============================] - 0s 28ms/step - loss: 0.0025 - val_loss: 0.0077\n",
            "Epoch 53/100\n",
            "8/8 [==============================] - 0s 28ms/step - loss: 0.0026 - val_loss: 0.0078\n",
            "Epoch 54/100\n",
            "8/8 [==============================] - 0s 28ms/step - loss: 0.0025 - val_loss: 0.0077\n",
            "Epoch 55/100\n",
            "8/8 [==============================] - 0s 29ms/step - loss: 0.0025 - val_loss: 0.0078\n",
            "Epoch 56/100\n",
            "8/8 [==============================] - 0s 30ms/step - loss: 0.0025 - val_loss: 0.0078\n",
            "Epoch 57/100\n",
            "8/8 [==============================] - 0s 29ms/step - loss: 0.0027 - val_loss: 0.0079\n",
            "Epoch 58/100\n",
            "8/8 [==============================] - 0s 28ms/step - loss: 0.0025 - val_loss: 0.0080\n",
            "Epoch 59/100\n",
            "8/8 [==============================] - 0s 28ms/step - loss: 0.0024 - val_loss: 0.0079\n",
            "Epoch 60/100\n",
            "8/8 [==============================] - 0s 28ms/step - loss: 0.0025 - val_loss: 0.0079\n",
            "Epoch 61/100\n",
            "8/8 [==============================] - 0s 28ms/step - loss: 0.0025 - val_loss: 0.0080\n",
            "Epoch 62/100\n",
            "8/8 [==============================] - 0s 28ms/step - loss: 0.0025 - val_loss: 0.0081\n",
            "Epoch 63/100\n",
            "8/8 [==============================] - 0s 28ms/step - loss: 0.0027 - val_loss: 0.0083\n",
            "Epoch 64/100\n",
            "8/8 [==============================] - 0s 28ms/step - loss: 0.0026 - val_loss: 0.0084\n",
            "Epoch 65/100\n",
            "8/8 [==============================] - 0s 29ms/step - loss: 0.0025 - val_loss: 0.0081\n",
            "Epoch 66/100\n",
            "8/8 [==============================] - 0s 29ms/step - loss: 0.0024 - val_loss: 0.0081\n",
            "Epoch 67/100\n",
            "8/8 [==============================] - 0s 28ms/step - loss: 0.0025 - val_loss: 0.0081\n",
            "Epoch 68/100\n",
            "8/8 [==============================] - 0s 29ms/step - loss: 0.0024 - val_loss: 0.0084\n",
            "Epoch 69/100\n",
            "8/8 [==============================] - 0s 29ms/step - loss: 0.0025 - val_loss: 0.0084\n",
            "Epoch 70/100\n",
            "8/8 [==============================] - 0s 28ms/step - loss: 0.0023 - val_loss: 0.0078\n",
            "Epoch 71/100\n",
            "8/8 [==============================] - 0s 29ms/step - loss: 0.0026 - val_loss: 0.0079\n",
            "Epoch 72/100\n",
            "8/8 [==============================] - 0s 28ms/step - loss: 0.0027 - val_loss: 0.0080\n",
            "Epoch 73/100\n",
            "8/8 [==============================] - 0s 28ms/step - loss: 0.0025 - val_loss: 0.0081\n",
            "Epoch 74/100\n",
            "8/8 [==============================] - 0s 29ms/step - loss: 0.0023 - val_loss: 0.0079\n",
            "Epoch 75/100\n",
            "8/8 [==============================] - 0s 28ms/step - loss: 0.0023 - val_loss: 0.0075\n",
            "Epoch 76/100\n",
            "8/8 [==============================] - 0s 32ms/step - loss: 0.0024 - val_loss: 0.0075\n",
            "Epoch 77/100\n",
            "8/8 [==============================] - 0s 32ms/step - loss: 0.0024 - val_loss: 0.0079\n",
            "Epoch 78/100\n",
            "8/8 [==============================] - 0s 28ms/step - loss: 0.0024 - val_loss: 0.0080\n",
            "Epoch 79/100\n",
            "8/8 [==============================] - 0s 28ms/step - loss: 0.0023 - val_loss: 0.0077\n",
            "Epoch 80/100\n",
            "8/8 [==============================] - 0s 32ms/step - loss: 0.0024 - val_loss: 0.0079\n",
            "Epoch 81/100\n",
            "8/8 [==============================] - 0s 29ms/step - loss: 0.0023 - val_loss: 0.0079\n",
            "Epoch 82/100\n",
            "8/8 [==============================] - 0s 29ms/step - loss: 0.0023 - val_loss: 0.0080\n",
            "Epoch 83/100\n",
            "8/8 [==============================] - 0s 33ms/step - loss: 0.0022 - val_loss: 0.0080\n",
            "Epoch 84/100\n",
            "8/8 [==============================] - 0s 31ms/step - loss: 0.0024 - val_loss: 0.0081\n",
            "Epoch 85/100\n",
            "8/8 [==============================] - 0s 31ms/step - loss: 0.0022 - val_loss: 0.0082\n",
            "Epoch 86/100\n",
            "8/8 [==============================] - 0s 33ms/step - loss: 0.0023 - val_loss: 0.0084\n",
            "Epoch 87/100\n",
            "8/8 [==============================] - 0s 32ms/step - loss: 0.0024 - val_loss: 0.0084\n",
            "Epoch 88/100\n",
            "8/8 [==============================] - 0s 31ms/step - loss: 0.0022 - val_loss: 0.0082\n",
            "Epoch 89/100\n",
            "8/8 [==============================] - 0s 31ms/step - loss: 0.0023 - val_loss: 0.0083\n",
            "Epoch 90/100\n",
            "8/8 [==============================] - 0s 32ms/step - loss: 0.0022 - val_loss: 0.0084\n",
            "Epoch 91/100\n",
            "8/8 [==============================] - 0s 33ms/step - loss: 0.0023 - val_loss: 0.0084\n",
            "Epoch 92/100\n",
            "8/8 [==============================] - 0s 36ms/step - loss: 0.0023 - val_loss: 0.0087\n",
            "Epoch 93/100\n",
            "8/8 [==============================] - 0s 32ms/step - loss: 0.0024 - val_loss: 0.0082\n",
            "Epoch 94/100\n",
            "8/8 [==============================] - 0s 29ms/step - loss: 0.0023 - val_loss: 0.0079\n",
            "Epoch 95/100\n",
            "8/8 [==============================] - 0s 28ms/step - loss: 0.0021 - val_loss: 0.0083\n",
            "Epoch 96/100\n",
            "8/8 [==============================] - 0s 28ms/step - loss: 0.0022 - val_loss: 0.0088\n",
            "Epoch 97/100\n",
            "8/8 [==============================] - 0s 29ms/step - loss: 0.0022 - val_loss: 0.0090\n",
            "Epoch 98/100\n",
            "8/8 [==============================] - 0s 28ms/step - loss: 0.0023 - val_loss: 0.0089\n",
            "Epoch 99/100\n",
            "8/8 [==============================] - 0s 28ms/step - loss: 0.0023 - val_loss: 0.0086\n",
            "Epoch 100/100\n",
            "8/8 [==============================] - 0s 28ms/step - loss: 0.0022 - val_loss: 0.0080\n"
          ]
        }
      ],
      "source": [
        "hist_lstm_model=lstm_model.fit(x_train,y_train,epochs=100,\n",
        "                        validation_data=(x_test,y_test)\n",
        "                        ,batch_size=256)"
      ]
    },
    {
      "cell_type": "code",
      "execution_count": 27,
      "metadata": {
        "id": "F3D4oBiRNAie"
      },
      "outputs": [],
      "source": [
        "result_array=[]\n",
        "algorithm_name=[]"
      ]
    },
    {
      "cell_type": "code",
      "execution_count": 28,
      "metadata": {
        "colab": {
          "base_uri": "https://localhost:8080/"
        },
        "id": "tu6iBcmO3-RO",
        "outputId": "b91c88c4-574b-4a76-8161-a98352fd6b2d"
      },
      "outputs": [
        {
          "output_type": "stream",
          "name": "stdout",
          "text": [
            "28/28 [==============================] - 1s 5ms/step\n"
          ]
        }
      ],
      "source": [
        "from sklearn import metrics\n",
        "import math\n",
        "\n",
        "y_pred=lstm_model.predict(x_test)\n",
        "lbl_real=y_test\n",
        "\n",
        "mse=metrics.mean_squared_error(lbl_real, y_pred)\n",
        "rmse = math.sqrt(mse)\n",
        "mape=metrics.mean_absolute_percentage_error(lbl_real, y_pred)\n",
        "mae=metrics.mean_absolute_error(lbl_real,y_pred)\n",
        "r2= metrics.r2_score(lbl_real, y_pred)\n",
        "\n",
        "# acc error\n",
        "err = abs(y_test- y_pred)\n",
        "diff = sum(err) / len(err)\n",
        "accr = 100 - np.mean(diff)\n",
        "\n",
        "result_array.append([mse,rmse,mape,mae,r2,accr])\n",
        "algorithm_name.append(\"LSTM\")\n"
      ]
    },
    {
      "cell_type": "code",
      "execution_count": 29,
      "metadata": {
        "id": "XYUMTIkzbigf"
      },
      "outputs": [],
      "source": [
        "from sklearn.preprocessing import MinMaxScaler\n",
        "data_normal=data_ready.copy()\n",
        "sce=MinMaxScaler(feature_range=(-1,1))\n",
        "data_col=data_ready[\"Close\"].values.reshape(-1,1)\n",
        "sce.fit(data_col)\n",
        "y_train_real  = sce.transform(y_train.reshape(-1,1))\n",
        "y_test_real  = sce.transform(y_test.reshape(-1,1))\n",
        "pred_real=sce.transform(y_pred.reshape(-1,1))"
      ]
    },
    {
      "cell_type": "code",
      "execution_count": 30,
      "metadata": {
        "colab": {
          "base_uri": "https://localhost:8080/",
          "height": 419
        },
        "id": "-vr2tUu5cf9J",
        "outputId": "42722e77-2290-4725-b930-8e48bae32ff5"
      },
      "outputs": [
        {
          "output_type": "display_data",
          "data": {
            "text/plain": [
              "<Figure size 864x432 with 1 Axes>"
            ],
            "image/png": "[encoded data removed]"
          },
          "metadata": {
            "needs_background": "light"
          }
        }
      ],
      "source": [
        "from matplotlib.dates import DateFormatter\n",
        "fig, ax = plt.subplots(figsize=(12,6))\n",
        "ax.plot(data_main[\"date\"][win:idx],y_train_real)\n",
        "ax.plot(data_main[\"date\"][idx:],y_test_real)\n",
        "ax.plot(data_main[\"date\"][idx:],pred_real)\n",
        "myFmt = DateFormatter(\"%Y-%m-%d\")\n",
        "ax.xaxis.set_major_formatter(myFmt)\n",
        "plt.setp(ax.get_xticklabels(), rotation = 15)\n",
        "plt.legend([\"train\",\"test\",\"predict\"])\n",
        "plt.title(\"prediction by LSTM\")\n",
        "plt.xlabel('Data in Years', fontsize=10)\n",
        "plt.ylabel('Value', fontsize=10)\n",
        "plt.show()"
      ]
    },
    {
      "cell_type": "markdown",
      "metadata": {
        "id": "uGwqJI9Y1cn5"
      },
      "source": [
        "# **CNN**"
      ]
    },
    {
      "cell_type": "code",
      "execution_count": 31,
      "metadata": {
        "colab": {
          "base_uri": "https://localhost:8080/"
        },
        "id": "_wUxRC341sJ3",
        "outputId": "a537c591-087b-4e11-a24e-fa159eabc1b4"
      },
      "outputs": [
        {
          "output_type": "execute_result",
          "data": {
            "text/plain": [
              "(2029, 60, 2)"
            ]
          },
          "metadata": {},
          "execution_count": 31
        }
      ],
      "source": [
        "x_train.shape"
      ]
    },
    {
      "cell_type": "code",
      "execution_count": 32,
      "metadata": {
        "colab": {
          "base_uri": "https://localhost:8080/"
        },
        "id": "BXWGrQJb1ixC",
        "outputId": "5d6f6178-2b79-4281-f509-d27a473d723b"
      },
      "outputs": [
        {
          "output_type": "stream",
          "name": "stdout",
          "text": [
            "Model: \"sequential_1\"\n",
            "_________________________________________________________________\n",
            " Layer (type)                Output Shape              Param #   \n",
            "=================================================================\n",
            " conv2d (Conv2D)             (None, 30, 2, 128)        640       \n",
            "                                                                 \n",
            " conv2d_1 (Conv2D)           (None, 15, 2, 256)        131328    \n",
            "                                                                 \n",
            " average_pooling2d (AverageP  (None, 7, 1, 256)        0         \n",
            " ooling2D)                                                       \n",
            "                                                                 \n",
            " flatten (Flatten)           (None, 1792)              0         \n",
            "                                                                 \n",
            " dropout_1 (Dropout)         (None, 1792)              0         \n",
            "                                                                 \n",
            " dense_1 (Dense)             (None, 1)                 1793      \n",
            "                                                                 \n",
            "=================================================================\n",
            "Total params: 133,761\n",
            "Trainable params: 133,761\n",
            "Non-trainable params: 0\n",
            "_________________________________________________________________\n"
          ]
        }
      ],
      "source": [
        "from keras.models import Sequential\n",
        "from keras.layers import Conv2D,AveragePooling2D\n",
        "from keras.layers import Flatten\n",
        "from keras.layers import Dense\n",
        "from keras.layers import Dropout\n",
        "from keras.layers import BatchNormalization\n",
        "from tensorflow import keras\n",
        "\n",
        "\n",
        "#initialisizng the model \n",
        "cnn_model= Sequential()\n",
        "cnn_model.add(Conv2D(filters=128,kernel_size=(2,2),strides=(2,1), padding=\"same\",\n",
        "                      input_shape=(x_train.shape[1],x_train.shape[2],1)))\n",
        "cnn_model.add(Conv2D(filters=256,kernel_size=(2,2),strides=(2,1),padding=\"same\"))\n",
        "cnn_model.add(AveragePooling2D(pool_size=2))\n",
        "cnn_model.add(Flatten())\n",
        "cnn_model.add(Dropout(0.01)) \n",
        "cnn_model.add(Dense(units=1))\n",
        "\n",
        "#----- compile model\n",
        "opt = keras.optimizers.Adam(learning_rate=0.0001)\n",
        "cnn_model.compile(optimizer='adam',loss='mean_squared_error')\n",
        "cnn_model.summary()\n",
        "\n"
      ]
    },
    {
      "cell_type": "code",
      "execution_count": 33,
      "metadata": {
        "colab": {
          "base_uri": "https://localhost:8080/"
        },
        "id": "n3_GYo-21ixE",
        "outputId": "8e4e0c3e-5c83-4115-d5c1-826f21301f6e"
      },
      "outputs": [
        {
          "output_type": "stream",
          "name": "stdout",
          "text": [
            "Epoch 1/100\n",
            "8/8 [==============================] - 5s 49ms/step - loss: 0.2067 - val_loss: 0.2874\n",
            "Epoch 2/100\n",
            "8/8 [==============================] - 0s 11ms/step - loss: 0.0520 - val_loss: 0.3314\n",
            "Epoch 3/100\n",
            "8/8 [==============================] - 0s 10ms/step - loss: 0.0194 - val_loss: 0.3203\n",
            "Epoch 4/100\n",
            "8/8 [==============================] - 0s 11ms/step - loss: 0.0115 - val_loss: 0.2747\n",
            "Epoch 5/100\n",
            "8/8 [==============================] - 0s 10ms/step - loss: 0.0074 - val_loss: 0.3067\n",
            "Epoch 6/100\n",
            "8/8 [==============================] - 0s 9ms/step - loss: 0.0060 - val_loss: 0.2553\n",
            "Epoch 7/100\n",
            "8/8 [==============================] - 0s 10ms/step - loss: 0.0052 - val_loss: 0.2676\n",
            "Epoch 8/100\n",
            "8/8 [==============================] - 0s 9ms/step - loss: 0.0047 - val_loss: 0.2340\n",
            "Epoch 9/100\n",
            "8/8 [==============================] - 0s 10ms/step - loss: 0.0044 - val_loss: 0.2293\n",
            "Epoch 10/100\n",
            "8/8 [==============================] - 0s 9ms/step - loss: 0.0040 - val_loss: 0.2076\n",
            "Epoch 11/100\n",
            "8/8 [==============================] - 0s 9ms/step - loss: 0.0038 - val_loss: 0.1948\n",
            "Epoch 12/100\n",
            "8/8 [==============================] - 0s 9ms/step - loss: 0.0035 - val_loss: 0.1778\n",
            "Epoch 13/100\n",
            "8/8 [==============================] - 0s 12ms/step - loss: 0.0033 - val_loss: 0.1603\n",
            "Epoch 14/100\n",
            "8/8 [==============================] - 0s 16ms/step - loss: 0.0032 - val_loss: 0.1491\n",
            "Epoch 15/100\n",
            "8/8 [==============================] - 0s 12ms/step - loss: 0.0029 - val_loss: 0.1326\n",
            "Epoch 16/100\n",
            "8/8 [==============================] - 0s 14ms/step - loss: 0.0027 - val_loss: 0.1192\n",
            "Epoch 17/100\n",
            "8/8 [==============================] - 0s 14ms/step - loss: 0.0025 - val_loss: 0.1067\n",
            "Epoch 18/100\n",
            "8/8 [==============================] - 0s 15ms/step - loss: 0.0023 - val_loss: 0.0937\n",
            "Epoch 19/100\n",
            "8/8 [==============================] - 0s 13ms/step - loss: 0.0022 - val_loss: 0.0819\n",
            "Epoch 20/100\n",
            "8/8 [==============================] - 0s 14ms/step - loss: 0.0020 - val_loss: 0.0734\n",
            "Epoch 21/100\n",
            "8/8 [==============================] - 0s 12ms/step - loss: 0.0019 - val_loss: 0.0652\n",
            "Epoch 22/100\n",
            "8/8 [==============================] - 0s 13ms/step - loss: 0.0017 - val_loss: 0.0571\n",
            "Epoch 23/100\n",
            "8/8 [==============================] - 0s 19ms/step - loss: 0.0017 - val_loss: 0.0513\n",
            "Epoch 24/100\n",
            "8/8 [==============================] - 0s 19ms/step - loss: 0.0016 - val_loss: 0.0461\n",
            "Epoch 25/100\n",
            "8/8 [==============================] - 0s 27ms/step - loss: 0.0015 - val_loss: 0.0420\n",
            "Epoch 26/100\n",
            "8/8 [==============================] - 0s 27ms/step - loss: 0.0015 - val_loss: 0.0391\n",
            "Epoch 27/100\n",
            "8/8 [==============================] - 0s 27ms/step - loss: 0.0014 - val_loss: 0.0368\n",
            "Epoch 28/100\n",
            "8/8 [==============================] - 0s 27ms/step - loss: 0.0014 - val_loss: 0.0346\n",
            "Epoch 29/100\n",
            "8/8 [==============================] - 0s 16ms/step - loss: 0.0014 - val_loss: 0.0330\n",
            "Epoch 30/100\n",
            "8/8 [==============================] - 0s 16ms/step - loss: 0.0013 - val_loss: 0.0321\n",
            "Epoch 31/100\n",
            "8/8 [==============================] - 0s 15ms/step - loss: 0.0013 - val_loss: 0.0313\n",
            "Epoch 32/100\n",
            "8/8 [==============================] - 0s 16ms/step - loss: 0.0013 - val_loss: 0.0302\n",
            "Epoch 33/100\n",
            "8/8 [==============================] - 0s 17ms/step - loss: 0.0013 - val_loss: 0.0295\n",
            "Epoch 34/100\n",
            "8/8 [==============================] - 0s 16ms/step - loss: 0.0013 - val_loss: 0.0289\n",
            "Epoch 35/100\n",
            "8/8 [==============================] - 0s 16ms/step - loss: 0.0012 - val_loss: 0.0284\n",
            "Epoch 36/100\n",
            "8/8 [==============================] - 0s 20ms/step - loss: 0.0012 - val_loss: 0.0280\n",
            "Epoch 37/100\n",
            "8/8 [==============================] - 0s 18ms/step - loss: 0.0012 - val_loss: 0.0273\n",
            "Epoch 38/100\n",
            "8/8 [==============================] - 0s 23ms/step - loss: 0.0012 - val_loss: 0.0270\n",
            "Epoch 39/100\n",
            "8/8 [==============================] - 0s 16ms/step - loss: 0.0012 - val_loss: 0.0263\n",
            "Epoch 40/100\n",
            "8/8 [==============================] - 0s 19ms/step - loss: 0.0011 - val_loss: 0.0259\n",
            "Epoch 41/100\n",
            "8/8 [==============================] - 0s 22ms/step - loss: 0.0011 - val_loss: 0.0255\n",
            "Epoch 42/100\n",
            "8/8 [==============================] - 0s 21ms/step - loss: 0.0011 - val_loss: 0.0251\n",
            "Epoch 43/100\n",
            "8/8 [==============================] - 0s 23ms/step - loss: 0.0011 - val_loss: 0.0247\n",
            "Epoch 44/100\n",
            "8/8 [==============================] - 0s 20ms/step - loss: 0.0011 - val_loss: 0.0242\n",
            "Epoch 45/100\n",
            "8/8 [==============================] - 0s 23ms/step - loss: 0.0011 - val_loss: 0.0237\n",
            "Epoch 46/100\n",
            "8/8 [==============================] - 0s 12ms/step - loss: 0.0011 - val_loss: 0.0233\n",
            "Epoch 47/100\n",
            "8/8 [==============================] - 0s 13ms/step - loss: 0.0011 - val_loss: 0.0230\n",
            "Epoch 48/100\n",
            "8/8 [==============================] - 0s 13ms/step - loss: 0.0010 - val_loss: 0.0224\n",
            "Epoch 49/100\n",
            "8/8 [==============================] - 0s 13ms/step - loss: 0.0011 - val_loss: 0.0223\n",
            "Epoch 50/100\n",
            "8/8 [==============================] - 0s 11ms/step - loss: 0.0010 - val_loss: 0.0222\n",
            "Epoch 51/100\n",
            "8/8 [==============================] - 0s 11ms/step - loss: 0.0010 - val_loss: 0.0216\n",
            "Epoch 52/100\n",
            "8/8 [==============================] - 0s 10ms/step - loss: 9.9498e-04 - val_loss: 0.0213\n",
            "Epoch 53/100\n",
            "8/8 [==============================] - 0s 10ms/step - loss: 9.6109e-04 - val_loss: 0.0210\n",
            "Epoch 54/100\n",
            "8/8 [==============================] - 0s 10ms/step - loss: 9.8000e-04 - val_loss: 0.0210\n",
            "Epoch 55/100\n",
            "8/8 [==============================] - 0s 10ms/step - loss: 9.7918e-04 - val_loss: 0.0207\n",
            "Epoch 56/100\n",
            "8/8 [==============================] - 0s 10ms/step - loss: 9.7431e-04 - val_loss: 0.0201\n",
            "Epoch 57/100\n",
            "8/8 [==============================] - 0s 10ms/step - loss: 9.3799e-04 - val_loss: 0.0200\n",
            "Epoch 58/100\n",
            "8/8 [==============================] - 0s 10ms/step - loss: 9.1608e-04 - val_loss: 0.0196\n",
            "Epoch 59/100\n",
            "8/8 [==============================] - 0s 12ms/step - loss: 9.3727e-04 - val_loss: 0.0196\n",
            "Epoch 60/100\n",
            "8/8 [==============================] - 0s 10ms/step - loss: 9.1695e-04 - val_loss: 0.0193\n",
            "Epoch 61/100\n",
            "8/8 [==============================] - 0s 10ms/step - loss: 8.9513e-04 - val_loss: 0.0190\n",
            "Epoch 62/100\n",
            "8/8 [==============================] - 0s 11ms/step - loss: 8.7705e-04 - val_loss: 0.0188\n",
            "Epoch 63/100\n",
            "8/8 [==============================] - 0s 10ms/step - loss: 8.8422e-04 - val_loss: 0.0186\n",
            "Epoch 64/100\n",
            "8/8 [==============================] - 0s 11ms/step - loss: 8.8060e-04 - val_loss: 0.0183\n",
            "Epoch 65/100\n",
            "8/8 [==============================] - 0s 10ms/step - loss: 9.0151e-04 - val_loss: 0.0182\n",
            "Epoch 66/100\n",
            "8/8 [==============================] - 0s 9ms/step - loss: 8.5668e-04 - val_loss: 0.0183\n",
            "Epoch 67/100\n",
            "8/8 [==============================] - 0s 11ms/step - loss: 9.2736e-04 - val_loss: 0.0182\n",
            "Epoch 68/100\n",
            "8/8 [==============================] - 0s 10ms/step - loss: 9.0944e-04 - val_loss: 0.0176\n",
            "Epoch 69/100\n",
            "8/8 [==============================] - 0s 10ms/step - loss: 8.8603e-04 - val_loss: 0.0176\n",
            "Epoch 70/100\n",
            "8/8 [==============================] - 0s 10ms/step - loss: 8.9712e-04 - val_loss: 0.0179\n",
            "Epoch 71/100\n",
            "8/8 [==============================] - 0s 10ms/step - loss: 8.6574e-04 - val_loss: 0.0174\n",
            "Epoch 72/100\n",
            "8/8 [==============================] - 0s 12ms/step - loss: 8.5932e-04 - val_loss: 0.0172\n",
            "Epoch 73/100\n",
            "8/8 [==============================] - 0s 12ms/step - loss: 8.3541e-04 - val_loss: 0.0172\n",
            "Epoch 74/100\n",
            "8/8 [==============================] - 0s 12ms/step - loss: 8.2204e-04 - val_loss: 0.0170\n",
            "Epoch 75/100\n",
            "8/8 [==============================] - 0s 11ms/step - loss: 8.4015e-04 - val_loss: 0.0167\n",
            "Epoch 76/100\n",
            "8/8 [==============================] - 0s 9ms/step - loss: 8.2406e-04 - val_loss: 0.0167\n",
            "Epoch 77/100\n",
            "8/8 [==============================] - 0s 11ms/step - loss: 8.3767e-04 - val_loss: 0.0167\n",
            "Epoch 78/100\n",
            "8/8 [==============================] - 0s 10ms/step - loss: 7.9096e-04 - val_loss: 0.0165\n",
            "Epoch 79/100\n",
            "8/8 [==============================] - 0s 12ms/step - loss: 7.9442e-04 - val_loss: 0.0163\n",
            "Epoch 80/100\n",
            "8/8 [==============================] - 0s 11ms/step - loss: 7.9830e-04 - val_loss: 0.0163\n",
            "Epoch 81/100\n",
            "8/8 [==============================] - 0s 10ms/step - loss: 8.1118e-04 - val_loss: 0.0161\n",
            "Epoch 82/100\n",
            "8/8 [==============================] - 0s 10ms/step - loss: 7.9062e-04 - val_loss: 0.0161\n",
            "Epoch 83/100\n",
            "8/8 [==============================] - 0s 10ms/step - loss: 7.8838e-04 - val_loss: 0.0159\n",
            "Epoch 84/100\n",
            "8/8 [==============================] - 0s 10ms/step - loss: 7.8854e-04 - val_loss: 0.0159\n",
            "Epoch 85/100\n",
            "8/8 [==============================] - 0s 13ms/step - loss: 8.0953e-04 - val_loss: 0.0159\n",
            "Epoch 86/100\n",
            "8/8 [==============================] - 0s 11ms/step - loss: 8.0703e-04 - val_loss: 0.0157\n",
            "Epoch 87/100\n",
            "8/8 [==============================] - 0s 10ms/step - loss: 7.8283e-04 - val_loss: 0.0158\n",
            "Epoch 88/100\n",
            "8/8 [==============================] - 0s 11ms/step - loss: 7.6099e-04 - val_loss: 0.0155\n",
            "Epoch 89/100\n",
            "8/8 [==============================] - 0s 11ms/step - loss: 7.6522e-04 - val_loss: 0.0156\n",
            "Epoch 90/100\n",
            "8/8 [==============================] - 0s 10ms/step - loss: 7.7599e-04 - val_loss: 0.0154\n",
            "Epoch 91/100\n",
            "8/8 [==============================] - 0s 10ms/step - loss: 7.3904e-04 - val_loss: 0.0154\n",
            "Epoch 92/100\n",
            "8/8 [==============================] - 0s 11ms/step - loss: 7.4306e-04 - val_loss: 0.0152\n",
            "Epoch 93/100\n",
            "8/8 [==============================] - 0s 10ms/step - loss: 7.7070e-04 - val_loss: 0.0154\n",
            "Epoch 94/100\n",
            "8/8 [==============================] - 0s 10ms/step - loss: 7.3208e-04 - val_loss: 0.0152\n",
            "Epoch 95/100\n",
            "8/8 [==============================] - 0s 11ms/step - loss: 7.3266e-04 - val_loss: 0.0151\n",
            "Epoch 96/100\n",
            "8/8 [==============================] - 0s 10ms/step - loss: 7.5386e-04 - val_loss: 0.0151\n",
            "Epoch 97/100\n",
            "8/8 [==============================] - 0s 10ms/step - loss: 7.5353e-04 - val_loss: 0.0152\n",
            "Epoch 98/100\n",
            "8/8 [==============================] - 0s 9ms/step - loss: 7.5544e-04 - val_loss: 0.0149\n",
            "Epoch 99/100\n",
            "8/8 [==============================] - 0s 12ms/step - loss: 7.2579e-04 - val_loss: 0.0149\n",
            "Epoch 100/100\n",
            "8/8 [==============================] - 0s 9ms/step - loss: 7.2485e-04 - val_loss: 0.0148\n"
          ]
        }
      ],
      "source": [
        "hist_cnn_model=cnn_model.fit(x_train,y_train,epochs=100,\n",
        "                        validation_data=(x_test,y_test)\n",
        "                        ,batch_size=256)"
      ]
    },
    {
      "cell_type": "code",
      "execution_count": 34,
      "metadata": {
        "colab": {
          "base_uri": "https://localhost:8080/"
        },
        "id": "x30K9xOI1ixI",
        "outputId": "b4fb715e-fafe-4fc0-fb0d-4412669a8d8a"
      },
      "outputs": [
        {
          "output_type": "stream",
          "name": "stdout",
          "text": [
            "28/28 [==============================] - 0s 3ms/step\n"
          ]
        }
      ],
      "source": [
        "from sklearn import metrics\n",
        "import math\n",
        "\n",
        "y_pred=cnn_model.predict(x_test)\n",
        "lbl_real=y_test\n",
        "\n",
        "mse=metrics.mean_squared_error(lbl_real, y_pred)\n",
        "rmse = math.sqrt(mse)\n",
        "mape=metrics.mean_absolute_percentage_error(lbl_real, y_pred)\n",
        "mae=metrics.mean_absolute_error(lbl_real,y_pred)\n",
        "r2= metrics.r2_score(lbl_real, y_pred)\n",
        "\n",
        "# acc error\n",
        "err = abs(y_test- y_pred)\n",
        "diff = sum(err) / len(err)\n",
        "accr = 100 - np.mean(diff)\n",
        "\n",
        "result_array.append([mse,rmse,mape,mae,r2,accr])\n",
        "algorithm_name.append(\"CNN\")\n"
      ]
    },
    {
      "cell_type": "code",
      "execution_count": 35,
      "metadata": {
        "id": "FPit_iQ41ixI"
      },
      "outputs": [],
      "source": [
        "from sklearn.preprocessing import MinMaxScaler\n",
        "data_normal=data_ready.copy()\n",
        "sce=MinMaxScaler(feature_range=(-1,1))\n",
        "data_col=data_ready[\"Close\"].values.reshape(-1,1)\n",
        "sce.fit(data_col)\n",
        "y_train_real  = sce.transform(y_train.reshape(-1,1))\n",
        "y_test_real  = sce.transform(y_test.reshape(-1,1))\n",
        "pred_real=sce.transform(y_pred.reshape(-1,1))"
      ]
    },
    {
      "cell_type": "code",
      "execution_count": 36,
      "metadata": {
        "colab": {
          "base_uri": "https://localhost:8080/",
          "height": 419
        },
        "id": "d3jMxP_z1ixJ",
        "outputId": "f22edb92-4ab0-47e2-918d-fb09461b36e2"
      },
      "outputs": [
        {
          "output_type": "display_data",
          "data": {
            "text/plain": [
              "<Figure size 864x432 with 1 Axes>"
            ],
            "image/png": "[encoded data removed]"
          },
          "metadata": {
            "needs_background": "light"
          }
        }
      ],
      "source": [
        "from matplotlib.dates import DateFormatter\n",
        "fig, ax = plt.subplots(figsize=(12,6))\n",
        "ax.plot(data_main[\"date\"][win:idx],y_train_real)\n",
        "ax.plot(data_main[\"date\"][idx:],y_test_real)\n",
        "ax.plot(data_main[\"date\"][idx:],pred_real)\n",
        "myFmt = DateFormatter(\"%Y-%m-%d\")\n",
        "ax.xaxis.set_major_formatter(myFmt)\n",
        "plt.setp(ax.get_xticklabels(), rotation = 15)\n",
        "plt.legend([\"train\",\"test\",\"predict\"])\n",
        "plt.title(\"prediction by LSTM\")\n",
        "plt.xlabel('Date', fontsize=10)\n",
        "plt.ylabel('Value', fontsize=10)\n",
        "plt.show()"
      ]
    },
    {
      "cell_type": "markdown",
      "metadata": {
        "id": "VsQTc-aJ6noy"
      },
      "source": [
        "# **GRU**"
      ]
    },
    {
      "cell_type": "code",
      "execution_count": 37,
      "metadata": {
        "colab": {
          "base_uri": "https://localhost:8080/"
        },
        "id": "OPQ7IRRJ6no1",
        "outputId": "d01b2eb6-890d-4d90-e552-edf44f0d21f0"
      },
      "outputs": [
        {
          "output_type": "stream",
          "name": "stdout",
          "text": [
            "Model: \"sequential_2\"\n",
            "_________________________________________________________________\n",
            " Layer (type)                Output Shape              Param #   \n",
            "=================================================================\n",
            " gru (GRU)                   (None, 60, 128)           50688     \n",
            "                                                                 \n",
            " gru_1 (GRU)                 (None, 256)               296448    \n",
            "                                                                 \n",
            " dropout_2 (Dropout)         (None, 256)               0         \n",
            "                                                                 \n",
            " dense_2 (Dense)             (None, 1)                 257       \n",
            "                                                                 \n",
            "=================================================================\n",
            "Total params: 347,393\n",
            "Trainable params: 347,393\n",
            "Non-trainable params: 0\n",
            "_________________________________________________________________\n"
          ]
        }
      ],
      "source": [
        "from keras.models import Sequential\n",
        "from keras.layers import GRU\n",
        "from keras.layers import Dense\n",
        "from keras.layers import Dropout\n",
        "from keras.layers import BatchNormalization\n",
        "from tensorflow import keras\n",
        "\n",
        "\n",
        "#initialisizng the model \n",
        "gru_model= Sequential()\n",
        "gru_model.add(GRU(units=128,return_sequences=True,\n",
        "                    input_shape=(x_train.shape[1],x_train.shape[2])))\n",
        "gru_model.add(GRU(units=256))\n",
        "gru_model.add(Dropout(0.3)) \n",
        "gru_model.add(Dense(units=1))\n",
        "\n",
        "#----- compile model\n",
        "opt = keras.optimizers.Adam(learning_rate=0.0001)\n",
        "gru_model.compile(optimizer='adam',loss='mean_squared_error')\n",
        "gru_model.summary()\n",
        "\n"
      ]
    },
    {
      "cell_type": "code",
      "execution_count": 38,
      "metadata": {
        "colab": {
          "base_uri": "https://localhost:8080/"
        },
        "id": "mMkoLs1T6no3",
        "outputId": "17386d8a-7a62-412e-c03c-58000eed3316"
      },
      "outputs": [
        {
          "output_type": "stream",
          "name": "stdout",
          "text": [
            "Epoch 1/100\n",
            "8/8 [==============================] - 4s 121ms/step - loss: 0.2427 - val_loss: 0.0897\n",
            "Epoch 2/100\n",
            "8/8 [==============================] - 0s 26ms/step - loss: 0.0361 - val_loss: 0.0848\n",
            "Epoch 3/100\n",
            "8/8 [==============================] - 0s 29ms/step - loss: 0.0126 - val_loss: 0.1041\n",
            "Epoch 4/100\n",
            "8/8 [==============================] - 0s 25ms/step - loss: 0.0072 - val_loss: 0.0750\n",
            "Epoch 5/100\n",
            "8/8 [==============================] - 0s 25ms/step - loss: 0.0059 - val_loss: 0.0804\n",
            "Epoch 6/100\n",
            "8/8 [==============================] - 0s 30ms/step - loss: 0.0047 - val_loss: 0.0642\n",
            "Epoch 7/100\n",
            "8/8 [==============================] - 0s 26ms/step - loss: 0.0041 - val_loss: 0.0570\n",
            "Epoch 8/100\n",
            "8/8 [==============================] - 0s 26ms/step - loss: 0.0034 - val_loss: 0.0474\n",
            "Epoch 9/100\n",
            "8/8 [==============================] - 0s 24ms/step - loss: 0.0030 - val_loss: 0.0384\n",
            "Epoch 10/100\n",
            "8/8 [==============================] - 0s 29ms/step - loss: 0.0030 - val_loss: 0.0315\n",
            "Epoch 11/100\n",
            "8/8 [==============================] - 0s 24ms/step - loss: 0.0028 - val_loss: 0.0255\n",
            "Epoch 12/100\n",
            "8/8 [==============================] - 0s 27ms/step - loss: 0.0026 - val_loss: 0.0198\n",
            "Epoch 13/100\n",
            "8/8 [==============================] - 0s 25ms/step - loss: 0.0026 - val_loss: 0.0152\n",
            "Epoch 14/100\n",
            "8/8 [==============================] - 0s 25ms/step - loss: 0.0023 - val_loss: 0.0116\n",
            "Epoch 15/100\n",
            "8/8 [==============================] - 0s 25ms/step - loss: 0.0022 - val_loss: 0.0090\n",
            "Epoch 16/100\n",
            "8/8 [==============================] - 0s 29ms/step - loss: 0.0021 - val_loss: 0.0071\n",
            "Epoch 17/100\n",
            "8/8 [==============================] - 0s 25ms/step - loss: 0.0020 - val_loss: 0.0060\n",
            "Epoch 18/100\n",
            "8/8 [==============================] - 0s 24ms/step - loss: 0.0020 - val_loss: 0.0052\n",
            "Epoch 19/100\n",
            "8/8 [==============================] - 0s 24ms/step - loss: 0.0019 - val_loss: 0.0046\n",
            "Epoch 20/100\n",
            "8/8 [==============================] - 0s 24ms/step - loss: 0.0021 - val_loss: 0.0042\n",
            "Epoch 21/100\n",
            "8/8 [==============================] - 0s 29ms/step - loss: 0.0019 - val_loss: 0.0039\n",
            "Epoch 22/100\n",
            "8/8 [==============================] - 0s 24ms/step - loss: 0.0019 - val_loss: 0.0037\n",
            "Epoch 23/100\n",
            "8/8 [==============================] - 0s 24ms/step - loss: 0.0019 - val_loss: 0.0036\n",
            "Epoch 24/100\n",
            "8/8 [==============================] - 0s 24ms/step - loss: 0.0018 - val_loss: 0.0035\n",
            "Epoch 25/100\n",
            "8/8 [==============================] - 0s 24ms/step - loss: 0.0019 - val_loss: 0.0036\n",
            "Epoch 26/100\n",
            "8/8 [==============================] - 0s 24ms/step - loss: 0.0018 - val_loss: 0.0035\n",
            "Epoch 27/100\n",
            "8/8 [==============================] - 0s 25ms/step - loss: 0.0018 - val_loss: 0.0034\n",
            "Epoch 28/100\n",
            "8/8 [==============================] - 0s 24ms/step - loss: 0.0018 - val_loss: 0.0034\n",
            "Epoch 29/100\n",
            "8/8 [==============================] - 0s 24ms/step - loss: 0.0017 - val_loss: 0.0034\n",
            "Epoch 30/100\n",
            "8/8 [==============================] - 0s 24ms/step - loss: 0.0017 - val_loss: 0.0035\n",
            "Epoch 31/100\n",
            "8/8 [==============================] - 0s 24ms/step - loss: 0.0017 - val_loss: 0.0037\n",
            "Epoch 32/100\n",
            "8/8 [==============================] - 0s 24ms/step - loss: 0.0017 - val_loss: 0.0036\n",
            "Epoch 33/100\n",
            "8/8 [==============================] - 0s 24ms/step - loss: 0.0016 - val_loss: 0.0036\n",
            "Epoch 34/100\n",
            "8/8 [==============================] - 0s 24ms/step - loss: 0.0017 - val_loss: 0.0036\n",
            "Epoch 35/100\n",
            "8/8 [==============================] - 0s 24ms/step - loss: 0.0016 - val_loss: 0.0035\n",
            "Epoch 36/100\n",
            "8/8 [==============================] - 0s 24ms/step - loss: 0.0017 - val_loss: 0.0034\n",
            "Epoch 37/100\n",
            "8/8 [==============================] - 0s 25ms/step - loss: 0.0016 - val_loss: 0.0034\n",
            "Epoch 38/100\n",
            "8/8 [==============================] - 0s 25ms/step - loss: 0.0016 - val_loss: 0.0034\n",
            "Epoch 39/100\n",
            "8/8 [==============================] - 0s 24ms/step - loss: 0.0017 - val_loss: 0.0034\n",
            "Epoch 40/100\n",
            "8/8 [==============================] - 0s 24ms/step - loss: 0.0016 - val_loss: 0.0034\n",
            "Epoch 41/100\n",
            "8/8 [==============================] - 0s 24ms/step - loss: 0.0016 - val_loss: 0.0034\n",
            "Epoch 42/100\n",
            "8/8 [==============================] - 0s 24ms/step - loss: 0.0016 - val_loss: 0.0034\n",
            "Epoch 43/100\n",
            "8/8 [==============================] - 0s 25ms/step - loss: 0.0017 - val_loss: 0.0034\n",
            "Epoch 44/100\n",
            "8/8 [==============================] - 0s 25ms/step - loss: 0.0016 - val_loss: 0.0034\n",
            "Epoch 45/100\n",
            "8/8 [==============================] - 0s 29ms/step - loss: 0.0016 - val_loss: 0.0034\n",
            "Epoch 46/100\n",
            "8/8 [==============================] - 0s 30ms/step - loss: 0.0016 - val_loss: 0.0034\n",
            "Epoch 47/100\n",
            "8/8 [==============================] - 0s 24ms/step - loss: 0.0015 - val_loss: 0.0034\n",
            "Epoch 48/100\n",
            "8/8 [==============================] - 0s 25ms/step - loss: 0.0016 - val_loss: 0.0034\n",
            "Epoch 49/100\n",
            "8/8 [==============================] - 0s 25ms/step - loss: 0.0015 - val_loss: 0.0035\n",
            "Epoch 50/100\n",
            "8/8 [==============================] - 0s 25ms/step - loss: 0.0016 - val_loss: 0.0035\n",
            "Epoch 51/100\n",
            "8/8 [==============================] - 0s 25ms/step - loss: 0.0016 - val_loss: 0.0035\n",
            "Epoch 52/100\n",
            "8/8 [==============================] - 0s 30ms/step - loss: 0.0016 - val_loss: 0.0034\n",
            "Epoch 53/100\n",
            "8/8 [==============================] - 0s 25ms/step - loss: 0.0015 - val_loss: 0.0034\n",
            "Epoch 54/100\n",
            "8/8 [==============================] - 0s 25ms/step - loss: 0.0015 - val_loss: 0.0034\n",
            "Epoch 55/100\n",
            "8/8 [==============================] - 0s 24ms/step - loss: 0.0015 - val_loss: 0.0033\n",
            "Epoch 56/100\n",
            "8/8 [==============================] - 0s 25ms/step - loss: 0.0015 - val_loss: 0.0032\n",
            "Epoch 57/100\n",
            "8/8 [==============================] - 0s 25ms/step - loss: 0.0015 - val_loss: 0.0032\n",
            "Epoch 58/100\n",
            "8/8 [==============================] - 0s 27ms/step - loss: 0.0015 - val_loss: 0.0032\n",
            "Epoch 59/100\n",
            "8/8 [==============================] - 0s 25ms/step - loss: 0.0016 - val_loss: 0.0031\n",
            "Epoch 60/100\n",
            "8/8 [==============================] - 0s 25ms/step - loss: 0.0015 - val_loss: 0.0031\n",
            "Epoch 61/100\n",
            "8/8 [==============================] - 0s 26ms/step - loss: 0.0015 - val_loss: 0.0031\n",
            "Epoch 62/100\n",
            "8/8 [==============================] - 0s 25ms/step - loss: 0.0015 - val_loss: 0.0032\n",
            "Epoch 63/100\n",
            "8/8 [==============================] - 0s 26ms/step - loss: 0.0014 - val_loss: 0.0033\n",
            "Epoch 64/100\n",
            "8/8 [==============================] - 0s 25ms/step - loss: 0.0015 - val_loss: 0.0033\n",
            "Epoch 65/100\n",
            "8/8 [==============================] - 0s 26ms/step - loss: 0.0015 - val_loss: 0.0034\n",
            "Epoch 66/100\n",
            "8/8 [==============================] - 0s 25ms/step - loss: 0.0015 - val_loss: 0.0034\n",
            "Epoch 67/100\n",
            "8/8 [==============================] - 0s 29ms/step - loss: 0.0015 - val_loss: 0.0034\n",
            "Epoch 68/100\n",
            "8/8 [==============================] - 0s 25ms/step - loss: 0.0015 - val_loss: 0.0034\n",
            "Epoch 69/100\n",
            "8/8 [==============================] - 0s 24ms/step - loss: 0.0015 - val_loss: 0.0034\n",
            "Epoch 70/100\n",
            "8/8 [==============================] - 0s 25ms/step - loss: 0.0016 - val_loss: 0.0033\n",
            "Epoch 71/100\n",
            "8/8 [==============================] - 0s 25ms/step - loss: 0.0015 - val_loss: 0.0032\n",
            "Epoch 72/100\n",
            "8/8 [==============================] - 0s 25ms/step - loss: 0.0015 - val_loss: 0.0033\n",
            "Epoch 73/100\n",
            "8/8 [==============================] - 0s 26ms/step - loss: 0.0014 - val_loss: 0.0034\n",
            "Epoch 74/100\n",
            "8/8 [==============================] - 0s 25ms/step - loss: 0.0015 - val_loss: 0.0034\n",
            "Epoch 75/100\n",
            "8/8 [==============================] - 0s 25ms/step - loss: 0.0015 - val_loss: 0.0033\n",
            "Epoch 76/100\n",
            "8/8 [==============================] - 0s 26ms/step - loss: 0.0015 - val_loss: 0.0033\n",
            "Epoch 77/100\n",
            "8/8 [==============================] - 0s 26ms/step - loss: 0.0016 - val_loss: 0.0034\n",
            "Epoch 78/100\n",
            "8/8 [==============================] - 0s 26ms/step - loss: 0.0014 - val_loss: 0.0034\n",
            "Epoch 79/100\n",
            "8/8 [==============================] - 0s 25ms/step - loss: 0.0014 - val_loss: 0.0033\n",
            "Epoch 80/100\n",
            "8/8 [==============================] - 0s 26ms/step - loss: 0.0014 - val_loss: 0.0034\n",
            "Epoch 81/100\n",
            "8/8 [==============================] - 0s 25ms/step - loss: 0.0014 - val_loss: 0.0034\n",
            "Epoch 82/100\n",
            "8/8 [==============================] - 0s 25ms/step - loss: 0.0015 - val_loss: 0.0034\n",
            "Epoch 83/100\n",
            "8/8 [==============================] - 0s 30ms/step - loss: 0.0014 - val_loss: 0.0034\n",
            "Epoch 84/100\n",
            "8/8 [==============================] - 0s 25ms/step - loss: 0.0014 - val_loss: 0.0034\n",
            "Epoch 85/100\n",
            "8/8 [==============================] - 0s 24ms/step - loss: 0.0015 - val_loss: 0.0034\n",
            "Epoch 86/100\n",
            "8/8 [==============================] - 0s 25ms/step - loss: 0.0014 - val_loss: 0.0034\n",
            "Epoch 87/100\n",
            "8/8 [==============================] - 0s 25ms/step - loss: 0.0015 - val_loss: 0.0034\n",
            "Epoch 88/100\n",
            "8/8 [==============================] - 0s 29ms/step - loss: 0.0014 - val_loss: 0.0034\n",
            "Epoch 89/100\n",
            "8/8 [==============================] - 0s 25ms/step - loss: 0.0014 - val_loss: 0.0034\n",
            "Epoch 90/100\n",
            "8/8 [==============================] - 0s 25ms/step - loss: 0.0014 - val_loss: 0.0034\n",
            "Epoch 91/100\n",
            "8/8 [==============================] - 0s 24ms/step - loss: 0.0014 - val_loss: 0.0034\n",
            "Epoch 92/100\n",
            "8/8 [==============================] - 0s 25ms/step - loss: 0.0014 - val_loss: 0.0035\n",
            "Epoch 93/100\n",
            "8/8 [==============================] - 0s 24ms/step - loss: 0.0015 - val_loss: 0.0037\n",
            "Epoch 94/100\n",
            "8/8 [==============================] - 0s 24ms/step - loss: 0.0015 - val_loss: 0.0038\n",
            "Epoch 95/100\n",
            "8/8 [==============================] - 0s 24ms/step - loss: 0.0014 - val_loss: 0.0037\n",
            "Epoch 96/100\n",
            "8/8 [==============================] - 0s 25ms/step - loss: 0.0014 - val_loss: 0.0035\n",
            "Epoch 97/100\n",
            "8/8 [==============================] - 0s 25ms/step - loss: 0.0014 - val_loss: 0.0034\n",
            "Epoch 98/100\n",
            "8/8 [==============================] - 0s 26ms/step - loss: 0.0014 - val_loss: 0.0033\n",
            "Epoch 99/100\n",
            "8/8 [==============================] - 0s 25ms/step - loss: 0.0013 - val_loss: 0.0032\n",
            "Epoch 100/100\n",
            "8/8 [==============================] - 0s 25ms/step - loss: 0.0014 - val_loss: 0.0033\n"
          ]
        }
      ],
      "source": [
        "hist_gru_model=gru_model.fit(x_train,y_train,epochs=100,\n",
        "                        validation_data=(x_test,y_test)\n",
        "                        ,batch_size=256)"
      ]
    },
    {
      "cell_type": "code",
      "execution_count": 39,
      "metadata": {
        "colab": {
          "base_uri": "https://localhost:8080/"
        },
        "id": "NQDq1Yk26no7",
        "outputId": "a1cbc769-80ad-4ec1-e233-48ef465a5273"
      },
      "outputs": [
        {
          "output_type": "stream",
          "name": "stdout",
          "text": [
            "28/28 [==============================] - 1s 5ms/step\n"
          ]
        }
      ],
      "source": [
        "from sklearn import metrics\n",
        "import math\n",
        "\n",
        "y_pred=gru_model.predict(x_test)\n",
        "lbl_real=y_test\n",
        "\n",
        "mse=metrics.mean_squared_error(lbl_real, y_pred)\n",
        "rmse = math.sqrt(mse)\n",
        "mape=metrics.mean_absolute_percentage_error(lbl_real, y_pred)\n",
        "mae=metrics.mean_absolute_error(lbl_real,y_pred)\n",
        "r2= metrics.r2_score(lbl_real, y_pred)\n",
        "\n",
        "# acc error\n",
        "err = abs(y_test- y_pred)\n",
        "diff = sum(err) / len(err)\n",
        "accr = 100 - np.mean(diff)\n",
        "\n",
        "result_array.append([mse,rmse,mape,mae,r2,accr])\n",
        "algorithm_name.append(\"GRU\")\n"
      ]
    },
    {
      "cell_type": "code",
      "execution_count": 40,
      "metadata": {
        "id": "Td1ocmHn6no9"
      },
      "outputs": [],
      "source": [
        "from sklearn.preprocessing import MinMaxScaler\n",
        "data_normal=data_ready.copy()\n",
        "sce=MinMaxScaler(feature_range=(-1,1))\n",
        "data_col=data_ready[\"Close\"].values.reshape(-1,1)\n",
        "sce.fit(data_col)\n",
        "y_train_real  = sce.transform(y_train.reshape(-1,1))\n",
        "y_test_real  = sce.transform(y_test.reshape(-1,1))\n",
        "pred_real=sce.transform(y_pred.reshape(-1,1))"
      ]
    },
    {
      "cell_type": "code",
      "execution_count": 41,
      "metadata": {
        "colab": {
          "base_uri": "https://localhost:8080/",
          "height": 419
        },
        "id": "SB7xsFdQ6no-",
        "outputId": "65a2515f-a5ac-4314-e836-27e47e61113d"
      },
      "outputs": [
        {
          "output_type": "display_data",
          "data": {
            "text/plain": [
              "<Figure size 864x432 with 1 Axes>"
            ],
            "image/png": "[encoded data removed]"
          },
          "metadata": {
            "needs_background": "light"
          }
        }
      ],
      "source": [
        "from matplotlib.dates import DateFormatter\n",
        "fig, ax = plt.subplots(figsize=(12,6))\n",
        "ax.plot(data_main[\"date\"][win:idx],y_train_real)\n",
        "ax.plot(data_main[\"date\"][idx:],y_test_real)\n",
        "ax.plot(data_main[\"date\"][idx:],pred_real)\n",
        "myFmt = DateFormatter(\"%Y-%m-%d\")\n",
        "ax.xaxis.set_major_formatter(myFmt)\n",
        "plt.setp(ax.get_xticklabels(), rotation = 15)\n",
        "plt.legend([\"train\",\"test\",\"predict\"])\n",
        "plt.title(\"prediction by GRU\")\n",
        "plt.xlabel('Date', fontsize=10)\n",
        "plt.ylabel('Value', fontsize=10)\n",
        "plt.show()"
      ]
    },
    {
      "cell_type": "markdown",
      "metadata": {
        "id": "0yB4VOwSx-6R"
      },
      "source": [
        "# **result**"
      ]
    },
    {
      "cell_type": "code",
      "execution_count": 54,
      "metadata": {
        "id": "dkQXqelP0-Br",
        "colab": {
          "base_uri": "https://localhost:8080/",
          "height": 0
        },
        "outputId": "3789de2d-b56c-4f2a-d840-dc95023c3be6"
      },
      "outputs": [
        {
          "output_type": "execute_result",
          "data": {
            "text/plain": [
              "  Algorithm       MSE      RMSE      MAPE       MAE        R2       Accr\n",
              "0      LSTM  0.007969  0.089268  0.515843  0.061272  0.965061  99.468010\n",
              "1       CNN  0.014783  0.121585  0.700475  0.084308  0.935185  99.457048\n",
              "2       GRU  0.003327  0.057681  0.372870  0.040123  0.985412  99.461768"
            ],
            "text/html": [
              "\n",
              "  <div id=\"df-8af907e3-1c88-4cb3-8ad3-7199f78b0747\">\n",
              "    <div class=\"colab-df-container\">\n",
              "      <div>\n",
              "<style scoped>\n",
              "    .dataframe tbody tr th:only-of-type {\n",
              "        vertical-align: middle;\n",
              "    }\n",
              "\n",
              "    .dataframe tbody tr th {\n",
              "        vertical-align: top;\n",
              "    }\n",
              "\n",
              "    .dataframe thead th {\n",
              "        text-align: right;\n",
              "    }\n",
              "</style>\n",
              "<table border=\"1\" class=\"dataframe\">\n",
              "  <thead>\n",
              "    <tr style=\"text-align: right;\">\n",
              "      <th></th>\n",
              "      <th>Algorithm</th>\n",
              "      <th>MSE</th>\n",
              "      <th>RMSE</th>\n",
              "      <th>MAPE</th>\n",
              "      <th>MAE</th>\n",
              "      <th>R2</th>\n",
              "      <th>Accr</th>\n",
              "    </tr>\n",
              "  </thead>\n",
              "  <tbody>\n",
              "    <tr>\n",
              "      <th>0</th>\n",
              "      <td>LSTM</td>\n",
              "      <td>0.007969</td>\n",
              "      <td>0.089268</td>\n",
              "      <td>0.515843</td>\n",
              "      <td>0.061272</td>\n",
              "      <td>0.965061</td>\n",
              "      <td>99.468010</td>\n",
              "    </tr>\n",
              "    <tr>\n",
              "      <th>1</th>\n",
              "      <td>CNN</td>\n",
              "      <td>0.014783</td>\n",
              "      <td>0.121585</td>\n",
              "      <td>0.700475</td>\n",
              "      <td>0.084308</td>\n",
              "      <td>0.935185</td>\n",
              "      <td>99.457048</td>\n",
              "    </tr>\n",
              "    <tr>\n",
              "      <th>2</th>\n",
              "      <td>GRU</td>\n",
              "      <td>0.003327</td>\n",
              "      <td>0.057681</td>\n",
              "      <td>0.372870</td>\n",
              "      <td>0.040123</td>\n",
              "      <td>0.985412</td>\n",
              "      <td>99.461768</td>\n",
              "    </tr>\n",
              "  </tbody>\n",
              "</table>\n",
              "</div>\n",
              "      <button class=\"colab-df-convert\" onclick=\"convertToInteractive('df-8af907e3-1c88-4cb3-8ad3-7199f78b0747')\"\n",
              "              title=\"Convert this dataframe to an interactive table.\"\n",
              "              style=\"display:none;\">\n",
              "        \n",
              "  <svg xmlns=\"http://www.w3.org/2000/svg\" height=\"24px\"viewBox=\"0 0 24 24\"\n",
              "       width=\"24px\">\n",
              "    <path d=\"M0 0h24v24H0V0z\" fill=\"none\"/>\n",
              "    <path d=\"M18.56 5.44l.94 2.06.94-2.06 2.06-.94-2.06-.94-.94-2.06-.94 2.06-2.06.94zm-11 1L8.5 8.5l.94-2.06 2.06-.94-2.06-.94L8.5 2.5l-.94 2.06-2.06.94zm10 10l.94 2.06.94-2.06 2.06-.94-2.06-.94-.94-2.06-.94 2.06-2.06.94z\"/><path d=\"M17.41 7.96l-1.37-1.37c-.4-.4-.92-.59-1.43-.59-.52 0-1.04.2-1.43.59L10.3 9.45l-7.72 7.72c-.78.78-.78 2.05 0 2.83L4 21.41c.39.39.9.59 1.41.59.51 0 1.02-.2 1.41-.59l7.78-7.78 2.81-2.81c.8-.78.8-2.07 0-2.86zM5.41 20L4 18.59l7.72-7.72 1.47 1.35L5.41 20z\"/>\n",
              "  </svg>\n",
              "      </button>\n",
              "      \n",
              "  <style>\n",
              "    .colab-df-container {\n",
              "      display:flex;\n",
              "      flex-wrap:wrap;\n",
              "      gap: 12px;\n",
              "    }\n",
              "\n",
              "    .colab-df-convert {\n",
              "      background-color: #E8F0FE;\n",
              "      border: none;\n",
              "      border-radius: 50%;\n",
              "      cursor: pointer;\n",
              "      display: none;\n",
              "      fill: #1967D2;\n",
              "      height: 32px;\n",
              "      padding: 0 0 0 0;\n",
              "      width: 32px;\n",
              "    }\n",
              "\n",
              "    .colab-df-convert:hover {\n",
              "      background-color: #E2EBFA;\n",
              "      box-shadow: 0px 1px 2px rgba(60, 64, 67, 0.3), 0px 1px 3px 1px rgba(60, 64, 67, 0.15);\n",
              "      fill: #174EA6;\n",
              "    }\n",
              "\n",
              "    [theme=dark] .colab-df-convert {\n",
              "      background-color: #3B4455;\n",
              "      fill: #D2E3FC;\n",
              "    }\n",
              "\n",
              "    [theme=dark] .colab-df-convert:hover {\n",
              "      background-color: #434B5C;\n",
              "      box-shadow: 0px 1px 3px 1px rgba(0, 0, 0, 0.15);\n",
              "      filter: drop-shadow(0px 1px 2px rgba(0, 0, 0, 0.3));\n",
              "      fill: #FFFFFF;\n",
              "    }\n",
              "  </style>\n",
              "\n",
              "      <script>\n",
              "        const buttonEl =\n",
              "          document.querySelector('#df-8af907e3-1c88-4cb3-8ad3-7199f78b0747 button.colab-df-convert');\n",
              "        buttonEl.style.display =\n",
              "          google.colab.kernel.accessAllowed ? 'block' : 'none';\n",
              "\n",
              "        async function convertToInteractive(key) {\n",
              "          const element = document.querySelector('#df-8af907e3-1c88-4cb3-8ad3-7199f78b0747');\n",
              "          const dataTable =\n",
              "            await google.colab.kernel.invokeFunction('convertToInteractive',\n",
              "                                                     [key], {});\n",
              "          if (!dataTable) return;\n",
              "\n",
              "          const docLinkHtml = 'Like what you see? Visit the ' +\n",
              "            '<a target=\"_blank\" href=https://colab.research.google.com/notebooks/data_table.ipynb>data table notebook</a>'\n",
              "            + ' to learn more about interactive tables.';\n",
              "          element.innerHTML = '';\n",
              "          dataTable['output_type'] = 'display_data';\n",
              "          await google.colab.output.renderOutput(dataTable, element);\n",
              "          const docLink = document.createElement('div');\n",
              "          docLink.innerHTML = docLinkHtml;\n",
              "          element.appendChild(docLink);\n",
              "        }\n",
              "      </script>\n",
              "    </div>\n",
              "  </div>\n",
              "  "
            ]
          },
          "metadata": {},
          "execution_count": 54
        }
      ],
      "source": [
        "data_res=pd.DataFrame(result_array,columns=[\"MSE\",\"RMSE\",\"MAPE\",\"MAE\",\"R2\",\"Accr\"])\n",
        "data_res[\"Algorithm\"]=algorithm_name\n",
        "data_res=data_res[[\"Algorithm\",\"MSE\",\"RMSE\",\"MAPE\",\"MAE\",\"R2\",\"Accr\"]]\n",
        "data_res"
      ]
    },
    {
      "cell_type": "code",
      "execution_count": 55,
      "metadata": {
        "id": "r1suiZdpLkLe"
      },
      "outputs": [],
      "source": [
        "data_res.to_excel(\"res_bit.xlsx\")"
      ]
    },
    {
      "cell_type": "code",
      "execution_count": 56,
      "metadata": {
        "id": "BMvNd8lWED8P",
        "colab": {
          "base_uri": "https://localhost:8080/",
          "height": 0
        },
        "outputId": "f8f9e279-c1f5-49a4-eb60-95400b7fedeb"
      },
      "outputs": [
        {
          "output_type": "display_data",
          "data": {
            "text/plain": [
              "<Figure size 576x432 with 1 Axes>"
            ],
            "image/png": "[encoded data removed]"
          },
          "metadata": {
            "needs_background": "light"
          }
        }
      ],
      "source": [
        "plt.figure(figsize=(8,6))\n",
        "plt.semilogy(hist_lstm_model.history[\"loss\"])\n",
        "plt.semilogy(hist_cnn_model.history[\"loss\"])\n",
        "plt.semilogy(hist_gru_model.history[\"loss\"])\n",
        "plt.legend(algorithm_name)\n",
        "plt.title('Loss Function For Train Data', fontname='serif', fontsize=12)\n",
        "plt.xlabel('Epochs', fontname='serif', fontsize=12)\n",
        "plt.ylabel('Loss Value', fontname='serif', fontsize=12)\n",
        "plt.show()"
      ]
    },
    {
      "cell_type": "code",
      "execution_count": 57,
      "metadata": {
        "colab": {
          "base_uri": "https://localhost:8080/",
          "height": 0
        },
        "id": "_HjEDrJ5FCQQ",
        "outputId": "31db4e38-38ca-4bad-bc8c-3b6b9e1c7486"
      },
      "outputs": [
        {
          "output_type": "display_data",
          "data": {
            "text/plain": [
              "<Figure size 576x432 with 1 Axes>"
            ],
            "image/png": "[encoded data removed]"
          },
          "metadata": {
            "needs_background": "light"
          }
        }
      ],
      "source": [
        "plt.figure(figsize=(8,6))\n",
        "plt.plot(hist_lstm_model.history[\"val_loss\"])\n",
        "plt.plot(hist_cnn_model.history[\"val_loss\"])\n",
        "plt.plot(hist_gru_model.history[\"val_loss\"])\n",
        "plt.legend(algorithm_name)\n",
        "plt.title('Loss Function For Test Data', fontname='serif', fontsize=12)\n",
        "plt.xlabel('Epochs', fontname='serif', fontsize=12)\n",
        "plt.ylabel('Loss Value', fontname='serif', fontsize=12)\n",
        "plt.show()"
      ]
    },
    {
      "cell_type": "markdown",
      "source": [
        "# **future**"
      ],
      "metadata": {
        "id": "RDYEv833gn0v"
      }
    },
    {
      "cell_type": "code",
      "source": [
        "from sklearn.preprocessing import MinMaxScaler\n",
        "data_normal=data_ready.copy()\n",
        "sce=MinMaxScaler(feature_range=(-1,1))\n",
        "for col_name in (data_ready.columns):\n",
        "  print(col_name)\n",
        "  data_col=data_ready[col_name].values.reshape(-1,1)\n",
        "  data_normal[col_name]=sce.fit_transform(data_col)"
      ],
      "metadata": {
        "colab": {
          "base_uri": "https://localhost:8080/"
        },
        "id": "tzgIwz4A-f-S",
        "outputId": "babd55f8-cadd-4f6f-9e0d-6df1dca088d0"
      },
      "execution_count": 58,
      "outputs": [
        {
          "output_type": "stream",
          "name": "stdout",
          "text": [
            "Close\n",
            "score\n"
          ]
        }
      ]
    },
    {
      "cell_type": "code",
      "source": [
        "# gru_model\n",
        "# lstm_model\n",
        "# cnn_model"
      ],
      "metadata": {
        "id": "8iv9dxPWgnEL"
      },
      "execution_count": 59,
      "outputs": []
    },
    {
      "cell_type": "code",
      "source": [
        "data_col=data_ready[\"Close\"].values.reshape(-1,1)\n",
        "sce.fit(data_col)"
      ],
      "metadata": {
        "colab": {
          "base_uri": "https://localhost:8080/"
        },
        "id": "SOBvGMjXjJcj",
        "outputId": "ecc35cf3-0765-4c27-fd61-45062719bf4b"
      },
      "execution_count": 60,
      "outputs": [
        {
          "output_type": "execute_result",
          "data": {
            "text/plain": [
              "MinMaxScaler(feature_range=(-1, 1))"
            ]
          },
          "metadata": {},
          "execution_count": 60
        }
      ]
    },
    {
      "cell_type": "code",
      "source": [
        "model_final=gru_model\n",
        "last_time_plot=[-5,-4,-3,-2,-1]\n",
        "real_lbl=y_test[last_time_plot].reshape(-1,1)\n",
        "pred_lbl=model_final.predict(x_test[last_time_plot])"
      ],
      "metadata": {
        "colab": {
          "base_uri": "https://localhost:8080/"
        },
        "id": "aBKQPqfhh0r6",
        "outputId": "5988b6d2-f9ac-48e3-83f7-e1239461173f"
      },
      "execution_count": 61,
      "outputs": [
        {
          "output_type": "stream",
          "name": "stdout",
          "text": [
            "1/1 [==============================] - 0s 19ms/step\n"
          ]
        }
      ]
    },
    {
      "cell_type": "code",
      "source": [
        "pred_price=sce.inverse_transform(pred_lbl).reshape(pred_lbl.shape[0]).tolist()\n",
        "real_price=sce.inverse_transform(real_lbl).reshape(real_lbl.shape[0]).tolist()"
      ],
      "metadata": {
        "id": "T3q2-vIqiwjj"
      },
      "execution_count": 62,
      "outputs": []
    },
    {
      "cell_type": "code",
      "source": [
        "import pandas as pd\n",
        "data_pred=pd.DataFrame(columns=[\"real price\",\"pred price\"])\n",
        "data_pred[\"real price\"]=real_price\n",
        "data_pred[\"pred price\"]=pred_price\n",
        "data_pred"
      ],
      "metadata": {
        "colab": {
          "base_uri": "https://localhost:8080/",
          "height": 206
        },
        "id": "vCL7JmBrkdf3",
        "outputId": "86533b66-2aaf-48f3-818e-b73abd51a5e4"
      },
      "execution_count": 63,
      "outputs": [
        {
          "output_type": "execute_result",
          "data": {
            "text/plain": [
              "     real price    pred price\n",
              "0  16353.365234  16657.056641\n",
              "1  16618.199219  16340.417969\n",
              "2  16884.613281  16316.372070\n",
              "3  16669.439453  16496.550781\n",
              "4  16518.601562  16493.675781"
            ],
            "text/html": [
              "\n",
              "  <div id=\"df-b2e5269a-d6c0-43f9-b3cb-c8c445069baa\">\n",
              "    <div class=\"colab-df-container\">\n",
              "      <div>\n",
              "<style scoped>\n",
              "    .dataframe tbody tr th:only-of-type {\n",
              "        vertical-align: middle;\n",
              "    }\n",
              "\n",
              "    .dataframe tbody tr th {\n",
              "        vertical-align: top;\n",
              "    }\n",
              "\n",
              "    .dataframe thead th {\n",
              "        text-align: right;\n",
              "    }\n",
              "</style>\n",
              "<table border=\"1\" class=\"dataframe\">\n",
              "  <thead>\n",
              "    <tr style=\"text-align: right;\">\n",
              "      <th></th>\n",
              "      <th>real price</th>\n",
              "      <th>pred price</th>\n",
              "    </tr>\n",
              "  </thead>\n",
              "  <tbody>\n",
              "    <tr>\n",
              "      <th>0</th>\n",
              "      <td>16353.365234</td>\n",
              "      <td>16657.056641</td>\n",
              "    </tr>\n",
              "    <tr>\n",
              "      <th>1</th>\n",
              "      <td>16618.199219</td>\n",
              "      <td>16340.417969</td>\n",
              "    </tr>\n",
              "    <tr>\n",
              "      <th>2</th>\n",
              "      <td>16884.613281</td>\n",
              "      <td>16316.372070</td>\n",
              "    </tr>\n",
              "    <tr>\n",
              "      <th>3</th>\n",
              "      <td>16669.439453</td>\n",
              "      <td>16496.550781</td>\n",
              "    </tr>\n",
              "    <tr>\n",
              "      <th>4</th>\n",
              "      <td>16518.601562</td>\n",
              "      <td>16493.675781</td>\n",
              "    </tr>\n",
              "  </tbody>\n",
              "</table>\n",
              "</div>\n",
              "      <button class=\"colab-df-convert\" onclick=\"convertToInteractive('df-b2e5269a-d6c0-43f9-b3cb-c8c445069baa')\"\n",
              "              title=\"Convert this dataframe to an interactive table.\"\n",
              "              style=\"display:none;\">\n",
              "        \n",
              "  <svg xmlns=\"http://www.w3.org/2000/svg\" height=\"24px\"viewBox=\"0 0 24 24\"\n",
              "       width=\"24px\">\n",
              "    <path d=\"M0 0h24v24H0V0z\" fill=\"none\"/>\n",
              "    <path d=\"M18.56 5.44l.94 2.06.94-2.06 2.06-.94-2.06-.94-.94-2.06-.94 2.06-2.06.94zm-11 1L8.5 8.5l.94-2.06 2.06-.94-2.06-.94L8.5 2.5l-.94 2.06-2.06.94zm10 10l.94 2.06.94-2.06 2.06-.94-2.06-.94-.94-2.06-.94 2.06-2.06.94z\"/><path d=\"M17.41 7.96l-1.37-1.37c-.4-.4-.92-.59-1.43-.59-.52 0-1.04.2-1.43.59L10.3 9.45l-7.72 7.72c-.78.78-.78 2.05 0 2.83L4 21.41c.39.39.9.59 1.41.59.51 0 1.02-.2 1.41-.59l7.78-7.78 2.81-2.81c.8-.78.8-2.07 0-2.86zM5.41 20L4 18.59l7.72-7.72 1.47 1.35L5.41 20z\"/>\n",
              "  </svg>\n",
              "      </button>\n",
              "      \n",
              "  <style>\n",
              "    .colab-df-container {\n",
              "      display:flex;\n",
              "      flex-wrap:wrap;\n",
              "      gap: 12px;\n",
              "    }\n",
              "\n",
              "    .colab-df-convert {\n",
              "      background-color: #E8F0FE;\n",
              "      border: none;\n",
              "      border-radius: 50%;\n",
              "      cursor: pointer;\n",
              "      display: none;\n",
              "      fill: #1967D2;\n",
              "      height: 32px;\n",
              "      padding: 0 0 0 0;\n",
              "      width: 32px;\n",
              "    }\n",
              "\n",
              "    .colab-df-convert:hover {\n",
              "      background-color: #E2EBFA;\n",
              "      box-shadow: 0px 1px 2px rgba(60, 64, 67, 0.3), 0px 1px 3px 1px rgba(60, 64, 67, 0.15);\n",
              "      fill: #174EA6;\n",
              "    }\n",
              "\n",
              "    [theme=dark] .colab-df-convert {\n",
              "      background-color: #3B4455;\n",
              "      fill: #D2E3FC;\n",
              "    }\n",
              "\n",
              "    [theme=dark] .colab-df-convert:hover {\n",
              "      background-color: #434B5C;\n",
              "      box-shadow: 0px 1px 3px 1px rgba(0, 0, 0, 0.15);\n",
              "      filter: drop-shadow(0px 1px 2px rgba(0, 0, 0, 0.3));\n",
              "      fill: #FFFFFF;\n",
              "    }\n",
              "  </style>\n",
              "\n",
              "      <script>\n",
              "        const buttonEl =\n",
              "          document.querySelector('#df-b2e5269a-d6c0-43f9-b3cb-c8c445069baa button.colab-df-convert');\n",
              "        buttonEl.style.display =\n",
              "          google.colab.kernel.accessAllowed ? 'block' : 'none';\n",
              "\n",
              "        async function convertToInteractive(key) {\n",
              "          const element = document.querySelector('#df-b2e5269a-d6c0-43f9-b3cb-c8c445069baa');\n",
              "          const dataTable =\n",
              "            await google.colab.kernel.invokeFunction('convertToInteractive',\n",
              "                                                     [key], {});\n",
              "          if (!dataTable) return;\n",
              "\n",
              "          const docLinkHtml = 'Like what you see? Visit the ' +\n",
              "            '<a target=\"_blank\" href=https://colab.research.google.com/notebooks/data_table.ipynb>data table notebook</a>'\n",
              "            + ' to learn more about interactive tables.';\n",
              "          element.innerHTML = '';\n",
              "          dataTable['output_type'] = 'display_data';\n",
              "          await google.colab.output.renderOutput(dataTable, element);\n",
              "          const docLink = document.createElement('div');\n",
              "          docLink.innerHTML = docLinkHtml;\n",
              "          element.appendChild(docLink);\n",
              "        }\n",
              "      </script>\n",
              "    </div>\n",
              "  </div>\n",
              "  "
            ]
          },
          "metadata": {},
          "execution_count": 63
        }
      ]
    },
    {
      "cell_type": "code",
      "source": [
        "data_hybrid=data_normal.values\n",
        "last_win=data_hybrid[-win:,:]\n",
        "last_win=last_win.reshape(1,last_win.shape[0],last_win.shape[1])\n",
        "last_win.shape"
      ],
      "metadata": {
        "colab": {
          "base_uri": "https://localhost:8080/"
        },
        "id": "-nDF8WTg4Ngw",
        "outputId": "79552b18-63f4-42d1-b0d0-c5634ffaf727"
      },
      "execution_count": 64,
      "outputs": [
        {
          "output_type": "execute_result",
          "data": {
            "text/plain": [
              "(1, 60, 2)"
            ]
          },
          "metadata": {},
          "execution_count": 64
        }
      ]
    },
    {
      "cell_type": "code",
      "source": [
        "lbl_future=model_final.predict(last_win)\n",
        "lbl_future=lbl_future.reshape(-1,1)\n",
        "price_future=sce.inverse_transform(lbl_future)\n",
        "print(f'future price : {price_future.tolist()[0][0]}')"
      ],
      "metadata": {
        "colab": {
          "base_uri": "https://localhost:8080/"
        },
        "id": "n4AImcpq5PKQ",
        "outputId": "4c21147f-77b6-4cb2-bfae-351ddfa6c63c"
      },
      "execution_count": 65,
      "outputs": [
        {
          "output_type": "stream",
          "name": "stdout",
          "text": [
            "1/1 [==============================] - 0s 21ms/step\n",
            "future price : 16382.55859375\n"
          ]
        }
      ]
    }
  ],
  "metadata": {
    "accelerator": "GPU",
    "colab": {
      "collapsed_sections": [
        "KS_VFrZt72rB",
        "na5LbR398gbv",
        "lZDIv7ZuIoB0",
        "r6x48POqAfCN",
        "qmwRItpjECgL",
        "WWugnSdWEH8q",
        "89S4dJnSD9zH",
        "uGwqJI9Y1cn5",
        "VsQTc-aJ6noy"
      ],
      "provenance": []
    },
    "gpuClass": "standard",
    "kernelspec": {
      "display_name": "Python 3.10.0 64-bit",
      "language": "python",
      "name": "python3"
    },
    "language_info": {
      "name": "python",
      "version": "3.10.0"
    },
    "vscode": {
      "interpreter": {
        "hash": "c8686c18ed1493b687bf4918dc91855d4eaccc0b5c225ba21d6d4f373ce9d798"
      }
    }
  },
  "nbformat": 4,
  "nbformat_minor": 0
}